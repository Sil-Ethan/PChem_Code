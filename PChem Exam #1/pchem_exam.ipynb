{
 "cells": [
  {
   "cell_type": "markdown",
   "metadata": {},
   "source": [
    "# PChem Exam! I decided to do 11.8, the rotational energy question.\n",
    "\n",
    "Import the neccessary packages:"
   ]
  },
  {
   "cell_type": "code",
   "execution_count": 1,
   "metadata": {},
   "outputs": [],
   "source": [
    "import numpy as np\n",
    "import matplotlib.pyplot as plt\n",
    "import sympy as sy\n",
    "from scipy import constants"
   ]
  },
  {
   "cell_type": "code",
   "execution_count": 2,
   "metadata": {},
   "outputs": [],
   "source": [
    "# the energies in this system: harmonic oscillator, with frequency and kT scaled vs each other\n",
    "def energyRotDiatomic(B,J):\n",
    "    # moment = constants.Planck**2/(8*constants.pi**2*(B*1.6022e-19)) # eV converted to Joules\n",
    "    # print(moment)\n",
    "    return (B*1.6022e-19*J*(J+1))\n",
    "\n",
    "# the exact vibrational partition function for one mode, from McQuarrie\n",
    "def qExact(B,T):\n",
    "    \"\"\"calculate the exact value of the partition function\"\"\"\n",
    "    J = sy.symbols('j')\n",
    "    kT = constants.Boltzmann * T\n",
    "    return sy.N(sy.Sum((2*J+1)*sy.exp(-energyRotDiatomic(B,J)/kT), (J, 0, 100))) # Summation from 0 to infinity\n",
    "\n",
    "# the analytical probability of any state v, using the known probability distribution\n",
    "def exactProbResult(B,J,T):\n",
    " return sy.N((2*J+1)*sy.exp(-energyRotDiatomic(B,J)/(constants.Boltzmann * T))/qExact(B,T))"
   ]
  },
  {
   "cell_type": "code",
   "execution_count": 3,
   "metadata": {},
   "outputs": [
    {
     "name": "stdout",
     "output_type": "stream",
     "text": [
      "3.79696818565216\n"
     ]
    },
    {
     "data": {
      "text/latex": [
       "$\\displaystyle 0.263368021828248$"
      ],
      "text/plain": [
       "0.263368021828248"
      ]
     },
     "execution_count": 3,
     "metadata": {},
     "output_type": "execute_result"
    }
   ],
   "source": [
    "# print(exactProbResult_1(0.00750821,5,400))\n",
    "print(qExact(0.00750821,300))\n",
    "\n",
    "exactProbResult(0.00750821,0,300)"
   ]
  },
  {
   "cell_type": "code",
   "execution_count": 4,
   "metadata": {},
   "outputs": [],
   "source": [
    "#Needed functions from Schrier text: python versions\n",
    "\n",
    "def count(samples, entry):\n",
    "  \"\"\"making a python equivalent for the Mathematica \"Count[]\" function.\n",
    "  \"samples\" should be your list of samples.\n",
    "  \"entry\" should be which kind of entry you'd like to code to count for you.\n",
    "  these are the same inputs that the Mathematica function would expect.\"\"\"\n",
    "  items, counts = np.unique(samples, axis=0, return_counts=True) # tally\n",
    "  for i in range(len(items)):\n",
    "    if np.array_equal(items[i],entry):\n",
    "      return counts[i]\n",
    "\n",
    "# taking one step in a Monte Carlo simulation: arguments are\n",
    "# kT and frequency for this system (scaled to each other in the same energy units),\n",
    "# and then a starting state of the system\n",
    "# before each step, which here is \"v\" or the quantum number\n",
    "def MCstep(B,J,T):\n",
    "    Jprime = np.maximum(J+(-1)**np.random.randint(2), 0)\n",
    "    deltaE = energyRotDiatomic(B,Jprime) - energyRotDiatomic(B,J)\n",
    "    if deltaE <= 0:\n",
    "      return Jprime\n",
    "    else:\n",
    "      randn = np.random.random()\n",
    "      if randn < np.exp(-deltaE/(constants.Boltzmann * T)):\n",
    "        return Jprime\n",
    "      else:\n",
    "        return J\n",
    "\n",
    "# this sets up a working Monte Carlo simulation by taking a bunch of \"MCSteps\"\n",
    "# subject to specific arguments\n",
    "# kT and the frequency are here, scaled to each other, as well as\n",
    "# nEquil which is how many steps to take before recording any data and\n",
    "# nDataCol, which is the total number of steps\n",
    "# by default this writes the result of every 100th step (but that could be edited)\n",
    "def runMC(B,T, nEquil, nDataCol):\n",
    "    \"\"\"\n",
    "    Run a Monte Carlo simulation of the Harmonic Oscillator energy levels for some number of steps\n",
    "    \"\"\"\n",
    "    J = 0\n",
    "    JSamples = []\n",
    "    for i in range(nDataCol):\n",
    "        J = MCstep(B,J,T)\n",
    "        # print(J)\n",
    "        if i%100 == 0:\n",
    "            JSamples.append(J)\n",
    "    return JSamples\n",
    "\n",
    "# this takes an outputted list of data (which is just a bunch of v's in this system)\n",
    "# and calculates probability by counting some outcome\n",
    "# vSamples here is the data, and vTarget here is the outcome of interest (i.e. v=0)\n",
    "def MCProbResult(JSamples, JTarget):\n",
    "    \"\"\"\n",
    "    Calculate the probability of an energy level given data from a\n",
    "    Monte Carlo simulation.\n",
    "    \"\"\"\n",
    "    return count(JSamples, JTarget)/len(JSamples)"
   ]
  },
  {
   "cell_type": "code",
   "execution_count": 5,
   "metadata": {},
   "outputs": [
    {
     "name": "stdout",
     "output_type": "stream",
     "text": [
      "[1, 0, 0, 0, 0, 0, 1, 0, 0, 0, 0, 0, 1, 0, 2, 0, 0, 1, 0, 0, 2, 1, 2, 2, 0, 0, 0, 0, 0, 1, 0, 1, 0, 0, 1, 0, 0, 1, 0, 0, 1, 0, 1, 0, 0, 0, 1, 0, 2, 0, 3, 1, 0, 2, 0, 2, 0, 0, 0, 0, 2, 0, 0, 1, 2, 1, 2, 0, 2, 2, 1, 0, 0, 0, 0, 1, 0, 1, 1, 0, 1, 0, 0, 0, 0, 1, 0, 0, 0, 0, 1, 0, 2, 1, 0, 1, 1, 0, 0, 0]\n"
     ]
    },
    {
     "data": {
      "text/latex": [
       "$\\displaystyle 0.61$"
      ],
      "text/plain": [
       "0.610000000000000"
      ]
     },
     "execution_count": 5,
     "metadata": {},
     "output_type": "execute_result"
    }
   ],
   "source": [
    "B = 0.00750821\n",
    "T = 300\n",
    "simlist = runMC(B,T,100,10000)\n",
    "print(simlist)\n",
    "sy.N(count(simlist,0)/len(simlist))"
   ]
  },
  {
   "cell_type": "code",
   "execution_count": 6,
   "metadata": {},
   "outputs": [],
   "source": [
    "B = 0.00750821\n",
    "T = 300\n",
    "convergenceTest = [] #dont change this; re-initializes the list of outcomes\n",
    "for nDataCol in np.arange(1000,100000,2000): #dont change this; this specifies how many simulations\n",
    "    convergenceTest.append(MCProbResult(runMC(B,T,100,nDataCol),0)) #put something in here to append to the list"
   ]
  },
  {
   "cell_type": "code",
   "execution_count": 7,
   "metadata": {},
   "outputs": [
    {
     "data": {
      "text/plain": [
       "<matplotlib.legend.Legend at 0x1f12e3a59a0>"
      ]
     },
     "execution_count": 7,
     "metadata": {},
     "output_type": "execute_result"
    },
    {
     "data": {
      "image/png": "[encoded data removed]",
      "text/plain": [
       "<Figure size 432x288 with 1 Axes>"
      ]
     },
     "metadata": {
      "needs_background": "light"
     },
     "output_type": "display_data"
    }
   ],
   "source": [
    "plt.plot(np.arange(1000,100000,2000),convergenceTest,label='simulated')\n",
    "plt.axhline(exactProbResult(B,0,T), color='r', linestyle='-',label='exact') #plot a horizontal line at the exact value\n",
    "plt.xlabel(\"number of steps\",fontsize=20)\n",
    "plt.ylabel(\"probability of J=0\",fontsize=20)\n",
    "plt.legend(fontsize=20)"
   ]
  }
 ],
 "metadata": {
  "kernelspec": {
   "display_name": "base",
   "language": "python",
   "name": "python3"
  },
  "language_info": {
   "codemirror_mode": {
    "name": "ipython",
    "version": 3
   },
   "file_extension": ".py",
   "mimetype": "text/x-python",
   "name": "python",
   "nbconvert_exporter": "python",
   "pygments_lexer": "ipython3",
   "version": "3.9.7"
  },
  "orig_nbformat": 4
 },
 "nbformat": 4,
 "nbformat_minor": 2
}
