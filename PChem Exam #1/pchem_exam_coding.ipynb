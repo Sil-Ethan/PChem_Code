{
  "cells": [
    {
      "cell_type": "code",
      "execution_count": 1,
      "metadata": {
        "id": "VhWdS6TmTNki"
      },
      "outputs": [],
      "source": [
        "import numpy as np\n",
        "import matplotlib.pyplot as plt\n",
        "import sympy as sy\n",
        "from scipy import constants\n",
        "import math"
      ]
    },
    {
      "cell_type": "markdown",
      "metadata": {
        "id": "AaguBA0R18zn"
      },
      "source": [
        "Here are a bunch of Python versions of functions from the Schrier book Ch. 11. I am skipping the coin flip early parts and going straight to the work using the energy levels of a quantum harmonic oscillator (which is the model for a single vibrational degree of freedom).  Big acknowledgments to TAs from Chem 304 fall 2022, who coded many of these functions originally.\n",
        "\n",
        "Here is the \"exact solution\" with evaluation (as on p. 281):"
      ]
    },
    {
      "cell_type": "code",
      "execution_count": 2,
      "metadata": {
        "id": "tus1UGJJ33tW"
      },
      "outputs": [],
      "source": [
        "# the energies in this system: harmonic oscillator, with frequency and kT scaled vs each other\n",
        "def energyVibDiatomic(hbarOmega,v):\n",
        "    return hbarOmega*(v+0.5)\n",
        "\n",
        "# the exact vibrational partition function for one mode, from McQuarrie\n",
        "def qExact(kT,hbarOmega):\n",
        "    \"\"\"calculate the exact value of the partition function\"\"\"\n",
        "    v = sy.symbols('v')\n",
        "    return sy.N(sy.Sum(sy.exp(-energyVibDiatomic(hbarOmega,v)/kT), (v, 0, sy.oo))) # Summation from 0 to infinity\n",
        "\n",
        "# the analytical probability of any state v, using the known probability distribution\n",
        "def exactProbResult(kT,hbarOmega,v):\n",
        " return sy.N(sy.exp(-energyVibDiatomic(hbarOmega,v)/kT)/qExact(kT,hbarOmega))"
      ]
    },
    {
      "cell_type": "code",
      "execution_count": 3,
      "metadata": {
        "id": "YAcRan3M4Tyd"
      },
      "outputs": [
        {
          "name": "stdout",
          "output_type": "stream",
          "text": [
            "Here is the probability to be in v=0: 0.632120558828558\n",
            "Calculation of our Partition Function at kT=1 and hbaromega=1: 0.959517375667472\n"
          ]
        }
      ],
      "source": [
        "print(\"Here is the probability to be in v=0:\", exactProbResult(1,1,0))\n",
        "print(\"Calculation of our Partition Function at kT=1 and hbaromega=1:\",qExact(1,1))"
      ]
    },
    {
      "cell_type": "markdown",
      "metadata": {
        "id": "pYd6ub2C9bAJ"
      },
      "source": [
        "Now here are the functions that we need to run the Monte Carlo simulation. We need both a function that runs a single step and a routine that can run a simulation with a specified starting point, equilibration period, and number of steps with specification of how often to write out the result. Then we also need a counting routine that can tell us how many of a specific outcome we had (i.e. how many v=2 states did we see?)."
      ]
    },
    {
      "cell_type": "code",
      "execution_count": 4,
      "metadata": {
        "id": "62nSTITrTUdl"
      },
      "outputs": [],
      "source": [
        "#Needed functions from Schrier text: python versions\n",
        "\n",
        "def count(samples, entry):\n",
        "  \"\"\"making a python equivalent for the Mathematica \"Count[]\" function.\n",
        "  \"samples\" should be your list of samples.\n",
        "  \"entry\" should be which kind of entry you'd like to code to count for you.\n",
        "  these are the same inputs that the Mathematica function would expect.\"\"\"\n",
        "  items, counts = np.unique(samples, axis=0, return_counts=True) # tally\n",
        "  for i in range(len(items)):\n",
        "    if np.array_equal(items[i],entry):\n",
        "      return counts[i]\n",
        "\n",
        "# taking one step in a Monte Carlo simulation: arguments are\n",
        "# kT and frequency for this system (scaled to each other in the same energy units),\n",
        "# and then a starting state of the system\n",
        "# before each step, which here is \"v\" or the quantum number\n",
        "def MCstep(kT,hbarOmega,v):\n",
        "    vprime = np.maximum(v+(-1)**np.random.randint(2), 0)\n",
        "    deltaE = energyVibDiatomic(hbarOmega,vprime) - energyVibDiatomic(hbarOmega,v)\n",
        "    if deltaE <= 0:\n",
        "      return vprime\n",
        "    else:\n",
        "      randn = np.random.random()\n",
        "      if randn < np.exp(-deltaE/kT):\n",
        "        return vprime\n",
        "      else:\n",
        "        return v\n",
        "\n",
        "# this sets up a working Monte Carlo simulation by taking a bunch of \"MCSteps\"\n",
        "# subject to specific arguments\n",
        "# kT and the frequency are here, scaled to each other, as well as\n",
        "# nEquil which is how many steps to take before recording any data and\n",
        "# nDataCol, which is the total number of steps\n",
        "# by default this writes the result of every 100th step (but that could be edited)\n",
        "def runMC(kT, hbarOmega, nEquil, nDataCol):\n",
        "    \"\"\"\n",
        "    Run a Monte Carlo simulation of the Harmonic Oscillator energy levels for some number of steps\n",
        "    \"\"\"\n",
        "    v = 0\n",
        "    vSamples = []\n",
        "    for i in range(nDataCol):\n",
        "        v = MCstep(kT, hbarOmega, v)\n",
        "        if i%100 == 0:\n",
        "            vSamples.append(v)\n",
        "    return vSamples\n",
        "\n",
        "# this takes an outputted list of data (which is just a bunch of v's in this system)\n",
        "# and calculates probability by counting some outcome\n",
        "# vSamples here is the data, and vTarget here is the outcome of interest (i.e. v=0)\n",
        "def MCProbResult(vSamples, vTarget):\n",
        "    \"\"\"\n",
        "    Calculate the probability of an energy level given data from a\n",
        "    Monte Carlo simulation.\n",
        "    \"\"\"\n",
        "    return count(vSamples, vTarget)/len(vSamples)"
      ]
    },
    {
      "cell_type": "markdown",
      "metadata": {
        "id": "IJM_GwFV-PVV"
      },
      "source": [
        "With all of those functions on board, let's take 20 steps and see what the outcomes look like."
      ]
    },
    {
      "cell_type": "code",
      "execution_count": 5,
      "metadata": {
        "id": "ozklaiRR-O0L"
      },
      "outputs": [
        {
          "name": "stdout",
          "output_type": "stream",
          "text": [
            "Here are our steps when we start at v=0:\n",
            " [0, 0, 0, 1, 1, 1, 2, 1, 0, 1, 0, 0, 0, 1, 2, 3, 2, 1, 1, 1]\n"
          ]
        }
      ],
      "source": [
        "\"\"\"\n",
        "Below we do a Monte Carlo step where we print out the v we find ourselves in.\n",
        "\"\"\"\n",
        "\n",
        "v=0 \n",
        "steps = []\n",
        "N=20\n",
        "for i in range(N):\n",
        "  v=MCstep(1,1,v)\n",
        "  steps.append(v)\n",
        "\n",
        "print(\"Here are our steps when we start at v=0:\\n\", steps)\n"
      ]
    },
    {
      "cell_type": "markdown",
      "metadata": {
        "id": "qUp5-OGgDzYu"
      },
      "source": [
        "You can see that the value of *v* is effectively fluctuating with each step, which means that the simulation works for each step (it should be randomly picking new quantum numbers and then moving based on weighted probabilities that we defined above). But you can also see that there is some strong dependence of each outcome on what the prior value was, which is **NOT** what we want if we are doing MC simulations which are supposed to provide accurate statistical weighting of outcomes.\n",
        "\n",
        "So now let's run a short simulation where we take 10000 steps and write out every 100th step."
      ]
    },
    {
      "cell_type": "code",
      "execution_count": 6,
      "metadata": {
        "id": "GsG2r2nsDyHg"
      },
      "outputs": [
        {
          "name": "stdout",
          "output_type": "stream",
          "text": [
            "[0, 0, 0, 3, 0, 0, 2, 0, 2, 0, 0, 0, 0, 2, 0, 0, 0, 0, 0, 0, 0, 1, 0, 0, 0, 0, 0, 0, 0, 0, 0, 1, 1, 2, 0, 0, 0, 1, 0, 0, 0, 0, 0, 2, 1, 2, 4, 0, 0, 0, 1, 1, 0, 0, 0, 0, 0, 0, 0, 0, 0, 0, 0, 0, 0, 0, 0, 0, 0, 1, 0, 2, 1, 0, 1, 1, 0, 0, 0, 1, 0, 1, 0, 0, 0, 0, 0, 1, 0, 1, 0, 0, 0, 1, 0, 1, 1, 1, 1, 0]\n"
          ]
        }
      ],
      "source": [
        "simlist = runMC(1,1,100,10000)\n",
        "print(simlist)\n"
      ]
    },
    {
      "cell_type": "markdown",
      "metadata": {
        "id": "fXwoo06JFJAW"
      },
      "source": [
        "So that also works, and hopefully you can see now that the sampled outcomes don't depend strongly on each other consecutively. From that simulation, we can figure out how many of each quantum number we observed and what the probability of that quantum number was. (Here are two ways to output that number: one uses the \"MCProbResult\" function from the Schrier book.)"
      ]
    },
    {
      "cell_type": "code",
      "execution_count": 7,
      "metadata": {
        "id": "tuN73Jxv12NK"
      },
      "outputs": [
        {
          "data": {
            "text/latex": [
              "$\\displaystyle 0.71$"
            ],
            "text/plain": [
              "0.710000000000000"
            ]
          },
          "execution_count": 7,
          "metadata": {},
          "output_type": "execute_result"
        }
      ],
      "source": [
        "# Calculation of likelyihood of being in v=0\n",
        "sy.N(count(simlist,0)/len(simlist))"
      ]
    },
    {
      "cell_type": "code",
      "execution_count": 8,
      "metadata": {
        "id": "nNVkq28xiXBT"
      },
      "outputs": [
        {
          "data": {
            "text/plain": [
              "0.71"
            ]
          },
          "execution_count": 8,
          "metadata": {},
          "output_type": "execute_result"
        }
      ],
      "source": [
        "# Using the function MCProbResult that uses the count functions\n",
        "MCProbResult(simlist, 0)"
      ]
    },
    {
      "cell_type": "markdown",
      "metadata": {
        "id": "vahyDW02Fyh0"
      },
      "source": [
        "This is close to, but not exactly the same as, the exact result for v=0 that we expect.  If you re-run the last two input cells, you will see that the counted probability from the simulation fluctuates around the expected result. (We have now made it through p. 283 in the Schrier text.)\n",
        "\n",
        "Now we can test convergence of the simulation to the actual result (as happens on p. 284 of the text). The point here is to show that as we add more and more sampling points (running longer and longer simulations) that the result converges to the expected, analytical result for this system.\n",
        "\n",
        "Please note that this cell will take a while (maybe 30 seconds of cloud runtime) since it is running simulations with longer and longer numbers of steps.  (You can un-comment the last line if you want to see the actual numerical results, which here are sampled probabilities for $v=0$ for longer and longer intervals. But please only run the cell once.)"
      ]
    },
    {
      "cell_type": "code",
      "execution_count": 9,
      "metadata": {
        "id": "UhUk7mNrXGz_"
      },
      "outputs": [],
      "source": [
        "kT = 1\n",
        "hbarOmega = 1\n",
        "convergenceTest = [] #dont change this; re-initializes the list of outcomes\n",
        "for nDataCol in np.arange(1000,100000,2000): #dont change this; this specifies how many simulations\n",
        "    convergenceTest.append(MCProbResult(runMC(kT,hbarOmega,100,nDataCol),0)) #put something in here to append to the list\n",
        "# convergenceTest"
      ]
    },
    {
      "cell_type": "markdown",
      "metadata": {
        "id": "29MBT7THTPpZ"
      },
      "source": [
        "Now let's make a plot to show convergence, as on p. 284 where the converging probability is plotted with a horizontal line at the expected outcome (from the exact result)."
      ]
    },
    {
      "cell_type": "code",
      "execution_count": 10,
      "metadata": {
        "id": "xIBG3lnGRC9C"
      },
      "outputs": [
        {
          "data": {
            "text/plain": [
              "<matplotlib.legend.Legend at 0x24b68eb3820>"
            ]
          },
          "execution_count": 10,
          "metadata": {},
          "output_type": "execute_result"
        },
        {
          "data": {
            "image/png": "[encoded data removed]",
            "text/plain": [
              "<Figure size 432x288 with 1 Axes>"
            ]
          },
          "metadata": {
            "needs_background": "light"
          },
          "output_type": "display_data"
        }
      ],
      "source": [
        "plt.plot(np.arange(1000,100000,2000),convergenceTest,label='simulated')\n",
        "plt.axhline(exactProbResult(1,1,0), color='r', linestyle='-',label='exact') #plot a horizontal line at the exact value\n",
        "plt.xlabel(\"number of steps\",fontsize=20)\n",
        "plt.ylabel(\"probability of v=0\",fontsize=20)\n",
        "plt.legend(fontsize=20)"
      ]
    },
    {
      "cell_type": "markdown",
      "metadata": {
        "id": "E3TFMz_EjBVi"
      },
      "source": [
        "What we showed there is that as the simulations get longer (closer to infinite length), we get non-flucuating, essentially exact results for sampling in our system.  This means that we could use simulations to figure everything out about a system as long as we know what the rules are for that system (meaning, all of the possible energies and their relative probabilities).\n",
        "\n",
        "Below are problems that we will do in class.  Please wait until we start these in class together."
      ]
    },
    {
      "cell_type": "markdown",
      "metadata": {
        "id": "g9B7ELbRVgfo"
      },
      "source": [
        "\n",
        "# \\# 11-2\n",
        "\n",
        "##### Collaborators: Kyla Hayes, Sydney, Abby\n",
        "\n",
        "### \\# Part 1\n",
        "\n",
        "\n",
        "\n",
        "On a board or paper, write down the equation (or existing function) you would need to solve and/or plug numbers into to find the probability of a harmonic oscillator being in the $v=1$ state."
      ]
    },
    {
      "cell_type": "code",
      "execution_count": 11,
      "metadata": {
        "id": "G1E1Uju1jbBT"
      },
      "outputs": [
        {
          "data": {
            "text/plain": [
              "' Below is the equation that we are using! It is from the first definition of the function we got: '"
            ]
          },
          "execution_count": 11,
          "metadata": {},
          "output_type": "execute_result"
        }
      ],
      "source": [
        "\"\"\" Below is the equation that we are using! It is from the first definition of the function we got: \"\"\""
      ]
    },
    {
      "cell_type": "markdown",
      "metadata": {},
      "source": [
        "Here is the equation! \n",
        "$$p_{v=1}=\\frac{e^{-\\varepsilon _1 /k_BT}}{\\sum_i e^{-\\varepsilon _i /k_BT}}=\\frac{e^{-\\varepsilon _1 /k_BT}}{Q}$$\n",
        "Where this is just the Boltzman distribution of $\\varepsilon_1$ divided by the Partition Function. "
      ]
    },
    {
      "cell_type": "markdown",
      "metadata": {
        "id": "k7E4a7dbTu4E"
      },
      "source": [
        "### \\# Part 2\n",
        "\n",
        "Add some input to the second cell to calculate the exact probability of a quantum harmonic oscillator being in the $v=1$ state at a temperature of $kT/\\hbar\\omega=1$."
      ]
    },
    {
      "cell_type": "code",
      "execution_count": 12,
      "metadata": {
        "id": "aPAFpFwiULLb"
      },
      "outputs": [
        {
          "name": "stdout",
          "output_type": "stream",
          "text": [
            "The exact probability of being in v = 1: 0.232544157934830\n"
          ]
        }
      ],
      "source": [
        "exactProbResult(1,1,1)\n",
        "\n",
        "print(\"The exact probability of being in v = 1:\", exactProbResult(1,1,1))"
      ]
    },
    {
      "cell_type": "markdown",
      "metadata": {
        "id": "7TuySuBDqU9Z"
      },
      "source": [
        "### \\# Part 3\n",
        "\n",
        "On a board or paper, draw a diagram or write pseudocode describing how you might use the functions in the second cell to run a Monte Carlo simulation with an equilibration period of 1000 steps and a data collection period of 10,000 steps at a temperature of $kT/\\hbar\\omega=1$."
      ]
    },
    {
      "cell_type": "markdown",
      "metadata": {
        "id": "1nogX-i1UMjq"
      },
      "source": [
        "### \\# Part 4\n",
        "\n",
        "Use the functions in the second cell to run a Monte Carlo simulation with an equilibration period of 1000 steps and a data collection period of 10,000 steps at a temperature of $kT/\\hbar\\omega=1$.\n",
        "\n",
        "Use the data collected in this simulation to provide an estimate the probability of the $v=1$ state under these conditions. Feel free to see how much this number fluctuates in multiple trials of the same length."
      ]
    },
    {
      "cell_type": "code",
      "execution_count": 13,
      "metadata": {},
      "outputs": [
        {
          "name": "stdout",
          "output_type": "stream",
          "text": [
            "[0, 2, 0, 2, 0, 0, 0, 0, 0, 3, 0, 1, 0, 0, 0, 0, 0, 3, 2, 0, 0, 0, 0, 0, 0, 1, 0, 2, 0, 0, 2, 1, 1, 0, 0, 1, 1, 1, 1, 1, 0, 0, 0, 0, 1, 0, 0, 0, 0, 2, 1, 0, 0, 2, 1, 1, 1, 0, 0, 0, 2, 0, 0, 0, 0, 0, 1, 9, 1, 1, 0, 0, 0, 0, 0, 1, 2, 1, 3, 1, 0, 0, 1, 0, 1, 2, 0, 0, 1, 0, 0, 0, 0, 0, 0, 0, 0, 0, 1, 0]\n",
            "Given simlist, probability of being in v=1 is 0.24\n"
          ]
        }
      ],
      "source": [
        "simlist = runMC(1,1,1000,10000) # Run Monte Carlo Simulation with neqil = 1000, and collection period = 10,000\n",
        "print(simlist) # Print out the list\n",
        "print(\"Given simlist, probability of being in v=1 is\", MCProbResult(simlist, 1))"
      ]
    },
    {
      "cell_type": "markdown",
      "metadata": {
        "id": "BpPOBxe6VLw4"
      },
      "source": [
        "### \\# Part 5\n",
        "\n",
        "Collect the simulated probabilities from your group members in the following cell. Is their average closer to or further from the exact value than your individual answers?"
      ]
    },
    {
      "cell_type": "code",
      "execution_count": 14,
      "metadata": {
        "id": "outiKuzBrFd6"
      },
      "outputs": [
        {
          "data": {
            "text/plain": [
              "0.22999999999999998"
            ]
          },
          "execution_count": 14,
          "metadata": {},
          "output_type": "execute_result"
        }
      ],
      "source": [
        "np.mean([0.22,0.26,0.21]) #take the average of your group members' simulated probabilities"
      ]
    },
    {
      "cell_type": "markdown",
      "metadata": {
        "id": "3Hvafx_frweY"
      },
      "source": [
        "### \\# Part 6\n",
        "\n",
        "On a board, draw a diagram or write pseudocode describing how you might use the functions in the second cell to demonstrate convergence of your simulation predictions as the number of data collection steps increases."
      ]
    },
    {
      "cell_type": "markdown",
      "metadata": {
        "id": "tt0I39farVvb"
      },
      "source": [
        "### \\# Part 7\n",
        "\n",
        "Complete or edit the code in the following cell to demonstrate convergence of your simulation predictions as the number of data collection steps increases.\n",
        "\n",
        "Remember, you're trying to predict the probability of the $v=1$ state at a temperature of $kT/\\hbar\\omega=1$."
      ]
    },
    {
      "cell_type": "code",
      "execution_count": 15,
      "metadata": {
        "id": "0gNhk49TVfWx"
      },
      "outputs": [],
      "source": [
        "kT = 1\n",
        "hbarOmega = 1\n",
        "convergenceTest = [] #dont change this; re-initializes the list of outcomes\n",
        "for nDataCol in np.arange(1000,100000,2000): #dont change this; this specifies how many simulations\n",
        "    convergenceTest.append(MCProbResult(runMC(kT,hbarOmega,1000,nDataCol),1)) #put something in here to append to the list\n",
        "# convergenceTest"
      ]
    },
    {
      "cell_type": "markdown",
      "metadata": {
        "id": "sk0qOSeSXBWL"
      },
      "source": [
        "### \\# Part 8\n",
        "\n",
        "Complete the code below to plot the results of your simulations. Include a horizontal line at the value of the exact probability of the $v=1$ state. What happens as the number of data collection steps increases?\n"
      ]
    },
    {
      "cell_type": "code",
      "execution_count": 16,
      "metadata": {
        "id": "H-qYo9k2XF4c"
      },
      "outputs": [
        {
          "data": {
            "text/plain": [
              "<matplotlib.legend.Legend at 0x24b6963f880>"
            ]
          },
          "execution_count": 16,
          "metadata": {},
          "output_type": "execute_result"
        },
        {
          "data": {
            "image/png": "[encoded data removed]",
            "text/plain": [
              "<Figure size 432x288 with 1 Axes>"
            ]
          },
          "metadata": {
            "needs_background": "light"
          },
          "output_type": "display_data"
        }
      ],
      "source": [
        "plt.plot(np.arange(1000,100000,2000),convergenceTest,label='simulated')\n",
        "plt.axhline(exactProbResult(1,1,1), color='r', linestyle='-',label='exact') #plot a horizontal line at the exact value\n",
        "plt.xlabel(\"number of steps\",fontsize=20)\n",
        "plt.ylabel(\"probability of v=1\",fontsize=20)\n",
        "plt.legend(fontsize=20)"
      ]
    },
    {
      "cell_type": "markdown",
      "metadata": {
        "id": "zvpomKwWZp6T"
      },
      "source": [
        "# \\# 11-3\n",
        "\n",
        "Now let's try 11-3, which asks you to find the mean value of *v* for your simulation, rather than the probability of some specific *v*.\n",
        "\n",
        "### \\# Part 1\n",
        "\n",
        "Use the code box below to define a function that calculates the mean of your simulated outcomes from a given list. Call the list \"vSamples\", and see above for input that tells you how numpy calculates the mean of a list."
      ]
    },
    {
      "cell_type": "code",
      "execution_count": 17,
      "metadata": {
        "id": "PLpowWtlaTNn"
      },
      "outputs": [
        {
          "data": {
            "text/plain": [
              "0.23513520527763138"
            ]
          },
          "execution_count": 17,
          "metadata": {},
          "output_type": "execute_result"
        }
      ],
      "source": [
        "\"\"\"\n",
        "Function: list_mean\n",
        "Input: vSamples (list)\n",
        "Output: np.mean(vSamples) (float)\n",
        "Task: takes in a simulated list of outcomes, and then uses the numpy function .mean() to calculate the mean of that list. \n",
        "\"\"\"\n",
        "\n",
        "def list_mean(vSamples):\n",
        "    return np.mean(vSamples)\n",
        "list_mean(convergenceTest) # Calculates the mean of the v=1 convergence probabilities from above. "
      ]
    },
    {
      "cell_type": "markdown",
      "metadata": {
        "id": "ypD51YlNaWm-"
      },
      "source": [
        "### \\# Part 2\n",
        "\n",
        "Now run a simulation at $kT=1$ and $\\hbar\\omega=1$ with an equilibration period of 1000 steps and a data collection period of 10,000 steps, and calculate the mean $v$ outcome."
      ]
    },
    {
      "cell_type": "code",
      "execution_count": 18,
      "metadata": {
        "id": "O5cTKDwfa0Tq"
      },
      "outputs": [
        {
          "name": "stdout",
          "output_type": "stream",
          "text": [
            "[0, 0, 1, 1, 1, 3, 0, 0, 0, 0]\n",
            "The mean of v is 0.6\n"
          ]
        }
      ],
      "source": [
        "v=0\n",
        "steps = []\n",
        "N=10000\n",
        "# Does a MC simulation where we record every 1000th step. \n",
        "for i in range(N):\n",
        "  v = MCstep(1, 1, v)\n",
        "  if i%1000 == 0:\n",
        "    steps.append(v)\n",
        "\n",
        "print(steps)\n",
        "print(\"The mean of v is\", list_mean(steps))"
      ]
    },
    {
      "cell_type": "markdown",
      "metadata": {
        "id": "z4qA13W2bG_7"
      },
      "source": [
        "### \\# Part 3\n",
        "\n",
        "To test convergence here, we need to compare to the exact result. What is the exact result for the mean of $v$ at any possible $kT$ and $\\hbar\\omega$? Define a function that will return this numerical value if you give it $kT$ and $\\hbar\\omega$. (Big hint: you may also be able to use the input associated with the \"qExact\" function from above to help you with this.)"
      ]
    },
    {
      "cell_type": "code",
      "execution_count": 19,
      "metadata": {
        "id": "_98nc7s3bhgE"
      },
      "outputs": [],
      "source": [
        "import math\n",
        "\"\"\"\n",
        "Function: meanExact\n",
        "Inputs: kT (float), hbarOmega (float)\n",
        "Outputs: list_mean(list) (float)\n",
        "\n",
        "Task: Takes in the inputs kT, hbaromega and uses those values to calculate exactProbResult(kT,hbarOmega,n)\n",
        "for the first 1000 n values of Vibrational energies. We then use that value of exactProbResult(kT,hbarOmega,n)\n",
        "and add 1000 iterations into a list of that result. i.e., if we calculate the probability of exactProbResult(kT,hbarOmega,0)\n",
        "to be 50.00%, we add 5000 0's into a list. We do that for v=0 to v=1000. We then calculate the mean of that list to get our \n",
        "exact mean. \n",
        "\"\"\"\n",
        "\n",
        "def meanExact(kT,hbarOmega):\n",
        "    \"\"\"calculate the exact mean from any kT,hbarOmega for vibrational energy\"\"\"\n",
        "    list = [] # list to hold large amount of values\n",
        "    for n in range(1000):\n",
        "        value = math.trunc(exactProbResult(kT,hbarOmega,n)*1000) # creating number of iterations of n probability number\n",
        "        list += [n] * value\n",
        "    return list_mean(list) # Summation from 0 to infinity"
      ]
    },
    {
      "cell_type": "code",
      "execution_count": 20,
      "metadata": {},
      "outputs": [
        {
          "name": "stdout",
          "output_type": "stream",
          "text": [
            "The exact mean for v when kT=1 and hbarOmega=1 is 0.5672690763052208\n"
          ]
        }
      ],
      "source": [
        "print(\"The exact mean for v when kT=1 and hbarOmega=1 is\",meanExact(1,1))"
      ]
    },
    {
      "cell_type": "markdown",
      "metadata": {
        "id": "c3Xtnzf4dJJt"
      },
      "source": [
        "### \\# Part 4\n",
        "\n",
        "Now run a series of longer simulations (analogous to what happened in Part 4 of 11-2) and calculate the mean for each longer simulation. Use kT=1  and ℏω=1 again."
      ]
    },
    {
      "cell_type": "code",
      "execution_count": 21,
      "metadata": {
        "id": "C3PXxvMHc_fS"
      },
      "outputs": [
        {
          "name": "stdout",
          "output_type": "stream",
          "text": [
            "[1, 0, 0, 0, 3, 1, 0, 2, 0, 0, 1, 0, 1, 3, 1, 0, 0, 1, 0, 0, 0, 0, 0, 0, 1, 0, 0, 0, 0, 1, 0, 0, 1, 2, 0, 1, 1, 0, 0, 0, 6, 0, 0, 0, 1, 2, 0, 0, 0, 0, 0, 0, 0, 1, 1, 3, 1, 1, 1, 1, 1, 1, 0, 2, 1, 0, 3, 0, 0, 0, 0, 0, 0, 1, 0, 0, 0, 0, 0, 0, 3, 1, 0, 0, 0, 1, 1, 0, 0, 1, 0, 0, 1, 1, 0, 2, 0, 0, 0, 0]\n",
            "The mean of v is 0.59\n"
          ]
        }
      ],
      "source": [
        "simlist = runMC(1,1,1,10000)\n",
        "print(simlist)\n",
        "print(\"The mean of v is\", list_mean(simlist))"
      ]
    },
    {
      "cell_type": "markdown",
      "metadata": {
        "id": "tSgiqk9gdkfX"
      },
      "source": [
        "### \\# Part 5\n",
        "\n",
        "Then make a plot to demonstrate convergence by comparing your exact result from Part 3 to your simulations.  Place a horizontal line at the expected result."
      ]
    },
    {
      "cell_type": "code",
      "execution_count": 22,
      "metadata": {
        "id": "XTsSWawVdsbc"
      },
      "outputs": [],
      "source": [
        "kT = 1\n",
        "hbarOmega = 1\n",
        "convergenceTest = [] #dont change this; re-initializes the list of outcomes\n",
        "mean_list = []\n",
        "for nDataCol in np.arange(1000,100000,2000): #dont change this; this specifies how many simulations\n",
        "    convergenceTest = runMC(kT,hbarOmega,1000,nDataCol) #put something in here to append to the list\n",
        "    mean_list.append(list_mean(convergenceTest))\n",
        "# mean_list"
      ]
    },
    {
      "cell_type": "code",
      "execution_count": 23,
      "metadata": {},
      "outputs": [
        {
          "data": {
            "text/plain": [
              "<matplotlib.legend.Legend at 0x24b69a43730>"
            ]
          },
          "execution_count": 23,
          "metadata": {},
          "output_type": "execute_result"
        },
        {
          "data": {
            "image/png": "[encoded data removed]",
            "text/plain": [
              "<Figure size 432x288 with 1 Axes>"
            ]
          },
          "metadata": {
            "needs_background": "light"
          },
          "output_type": "display_data"
        }
      ],
      "source": [
        "plt.plot(np.arange(1000,100000,2000),mean_list,label='simulated')\n",
        "plt.axhline(meanExact(kT,hbarOmega), color='r', linestyle='-',label='exact') #plot a horizontal line at the exact value\n",
        "plt.xlabel(\"number of steps\",fontsize=20)\n",
        "plt.ylabel(\"average mean of v\",fontsize=20)\n",
        "plt.legend(fontsize=20)"
      ]
    },
    {
      "cell_type": "markdown",
      "metadata": {},
      "source": [
        "# Exam Question 11-6:\n",
        "In this question, we conduct an exact partition function calculation of the two lowest electric states of atomic iodine with it's fourfold degenerate ground electric state ($E=0 \\text{ eV}$) and it's twofold degenerate first excited state ($E=0.9427 \\text{ eV}$). We then also do a Monte Carlo simulation of this system to calculate the probability of being in the excited state. "
      ]
    },
    {
      "cell_type": "markdown",
      "metadata": {},
      "source": [
        "### Exact Partition Function Calculation\n",
        "Below, we calculate the exact partition function. We do this by using the following formula provided in the book: $$q_{\\text{elect}}(T)=g_{e1}+g_{e2}e^{\\varepsilon_{e2}/k_BT}+\\cdots$$ where we only care about the first two terms. We know that $g_{e1}=4,g_{e2}=2$, and to represent that degeneracy, we follow the hint provided and create a list with the electronic energies that we will randomly pull from. We then calculate the following probability for being in the first excited state:\n",
        "\n",
        "$$f_{\\text{excited}}=\\frac{g_{e2}e^{\\varepsilon_{e2}/k_BT}}{q_{\\text{elect}}(T)}$$\n",
        "\n",
        "The code we use to complete that task is the below cell. "
      ]
    },
    {
      "cell_type": "code",
      "execution_count": 24,
      "metadata": {},
      "outputs": [],
      "source": [
        "energy_list = np.array([0,0,0,0,0.9427,0.9427]) # creates an energy_list which includes degeneracy\n",
        "energy_list = energy_list*1.6022e-19 # eV to Joules\n",
        "\n",
        "\n",
        "\"\"\"\n",
        "Function: energyElectric()\n",
        "Inputs: N/A\n",
        "Outputs: ground or excited (string)\n",
        "\n",
        "Task: Given our list energy_list, randomly choose one of the entries in that list. If num==0, we are in the\n",
        "ground state, otherwise we are in the excited state. \n",
        "\"\"\"\n",
        "def energyElectric(): #  decides if we are in the excited or ground state.\n",
        "    num = np.random.choice(energy_list,size=1)\n",
        "    if num == 0:\n",
        "       return \"ground\"\n",
        "    if num == 0.9427*1.6022e-19:\n",
        "       return \"excited\"\n",
        "\n",
        "\"\"\"\n",
        "Function: qExact(state,T)\n",
        "Inputs: state (string), T (float)\n",
        "Outputs: Q (float)\n",
        "\n",
        "Task: Calculates the partition function for our system by summing all of the boltzman factors of our \n",
        "system. \n",
        "\"\"\"\n",
        "def qExact(state,T): \n",
        "    \"\"\"calculate the exact value of the partition function\"\"\"\n",
        "    Q = 0 \n",
        "    # Just have to sum the boltzman factors of the six states in our system. \n",
        "    for energy in energy_list:\n",
        "        Q = Q + sy.exp(-energy/(constants.Boltzmann*T))\n",
        "    return Q\n",
        "\n",
        "\"\"\" \n",
        "Function: exactProbResult(state,T)\n",
        "Inputs: state (string), T (float)\n",
        "\n",
        "Task: Calculates the probability of being in the ground state or excited state given a particular Temperature \n",
        "\"\"\"\n",
        "def exactProbResult(state,T):\n",
        "    if state == 'ground':\n",
        "        return sy.N(4*sy.exp(-energy_list[0]/(constants.Boltzmann*T))/qExact(state,T))\n",
        "    elif state == 'excited':\n",
        "        return sy.N(2*sy.exp(-energy_list[5]/(constants.Boltzmann*T))/qExact(state,T))"
      ]
    },
    {
      "cell_type": "code",
      "execution_count": 25,
      "metadata": {},
      "outputs": [
        {
          "name": "stdout",
          "output_type": "stream",
          "text": [
            "The exact probability of being in the excited state is 5.31%\n"
          ]
        }
      ],
      "source": [
        "print(\"The exact probability of being in the excited state is {:.2%}\".format(exactProbResult('excited',5000)))"
      ]
    },
    {
      "cell_type": "markdown",
      "metadata": {},
      "source": [
        "### Monte Carlo Functions\n",
        "\n",
        "##### Collaborators: Aidan Cosgrove, Casey, Spencer (though we didn't explicitly work together) gave me the idea for my solution\n",
        "Below, we define the various Monte Carlo (MC) functions required to perform a MC simulation for this electric simulation. These functions follow the same format as the vibrational frequency MC functions. Each functions purpose is described in the string statement above the prespective function. The main functions defined below are the following: calc_energy(), count(samples, entry), MCstep(state,T), runMC(initial_state, temperature, nEquil, num_steps), and MCProbResult(vSamples, vTarget)."
      ]
    },
    {
      "cell_type": "code",
      "execution_count": 26,
      "metadata": {},
      "outputs": [],
      "source": [
        "\"\"\"\n",
        "Function: calc_energy(state)\n",
        "Inputs: state (string)\n",
        "Outputs: state calculationg (float)\n",
        "\n",
        "Task: Takes in the input 'ground' or 'excited' and returns the associated energy calculation for that energy level in J.\n",
        "\"\"\"\n",
        "def calc_energy(state):\n",
        "   if state == \"ground\":\n",
        "      return 0\n",
        "   if state == \"excited\":\n",
        "      return 0.9427*1.6022e-19 # Units in Joules\n",
        "   \n",
        "\n",
        "\"\"\"\n",
        "Function: count(samples,entry)\n",
        "\n",
        "Copied and kept entirely the same as the vibrational example. \n",
        "\"\"\"\n",
        "def count(samples, entry):\n",
        "  \"\"\"making a python equivalent for the Mathematica \"Count[]\" function.\n",
        "  \"samples\" should be your list of samples.\n",
        "  \"entry\" should be which kind of entry you'd like to code to count for you.\n",
        "  these are the same inputs that the Mathematica function would expect.\"\"\"\n",
        "  items, counts = np.unique(samples, axis=0, return_counts=True) # tally\n",
        "  for i in range(len(items)):\n",
        "    if np.array_equal(items[i],entry):\n",
        "      return counts[i]\n",
        "\n",
        "\"\"\"\n",
        "Function: MCStep(state, T)\n",
        "Inputs: state (string), T (float)\n",
        "\n",
        "Task: Calculates deltaE between new_state - state, and if deltaE <= 0, then our system does not experience a desired change. \n",
        "However, if deltaE > 0, then we will take that change at the probability of the Boltzman distribution for that deltaE. If \n",
        "we do not accept the change, then we will return the original state. \n",
        "\"\"\"\n",
        "def MCstep(state,T):\n",
        "    new_state = energyElectric()\n",
        "    deltaE = calc_energy(new_state) - calc_energy(state)\n",
        "    if deltaE <= 0:\n",
        "      return new_state\n",
        "    else:\n",
        "      randn = np.random.random()\n",
        "      if randn < np.exp(-deltaE/(constants.Boltzmann*T)):\n",
        "        return new_state\n",
        "      else:\n",
        "        return state\n",
        "\n",
        "\"\"\"\n",
        "What we are doing right now is finding the exact partial function. What we want to do with the Monte Carlo \n",
        "Simulation is see if we can have it be the same as the exact partial function. Our Monte Carlo simulation will follow\n",
        "The following formatting:\n",
        "\n",
        "Function: runMC(initial_state, temperature, nEquil, num_steps)\n",
        "Inputs: initial_state(string), temperature(float), nEquil(integar), num_steps(integar)\n",
        "Ouputs: states (list)\n",
        "\n",
        "Task: Run the MCStep equal to num_steps, and then for every nEquil, we log that state. We then return a list of the states \n",
        "we collect from the Monte Carlo simulation. \n",
        "\"\"\"\n",
        "def runMC(initial_state, temperature, nEquil, num_steps):\n",
        "    \"\"\"Run a Monte Carlo simulation.\"\"\"\n",
        "    states = [] # holds all the states\n",
        "    current_state = initial_state # start either in ground or excited state\n",
        "\n",
        "    for i in range(num_steps):\n",
        "        current_state = MCstep(current_state, temperature) # change the state to the new state determined in MCStep\n",
        "        if i%100 == 0:\n",
        "            states.append(current_state)\n",
        "    return states\n",
        "\n",
        "\"\"\"\n",
        "Function: MCProbResult(vSamples, vTarget)\n",
        "Inputs: eSamples (list), eTarget(string)\n",
        "Outputs: count(list, target)/len(eSamples)\n",
        "\n",
        "Task: Calculates the probability of being either the ground state or the excited state based\n",
        "on the MC simulation. \n",
        "\"\"\"\n",
        "def MCProbResult(eSamples, eTarget):\n",
        "    \"\"\"\n",
        "    Calculate the probability of an energy level given data from a\n",
        "    Monte Carlo simulation.\n",
        "    \"\"\"\n",
        "    if eTarget == 'ground':\n",
        "       target = 0\n",
        "    elif eTarget == 'excited':\n",
        "       target = 1\n",
        "\n",
        "    list = []\n",
        "\n",
        "    \"\"\"\n",
        "    Interesting concept below, we only care about the two binaries of 'ground' and 'excited.' Thus, when we count up our list,\n",
        "    we instead treat ground = 0 and excited = 1. We merely want to count how many we have in either the ground of excited state,\n",
        "    and calculating that amount is easier when we associate with energy with a number after getting our list. \n",
        "    \"\"\"\n",
        "    for i in range(len(eSamples)): \n",
        "      if eSamples[i] == 'ground':\n",
        "        list.append(0)\n",
        "      elif eSamples[i] == 'excited':\n",
        "        list.append(1)\n",
        "    return count(list, target)/len(eSamples)\n"
      ]
    },
    {
      "cell_type": "code",
      "execution_count": 27,
      "metadata": {},
      "outputs": [
        {
          "name": "stdout",
          "output_type": "stream",
          "text": [
            "The probability of begin in the ground state at a temperature of 5000 is for this simlist is 0.03\n"
          ]
        }
      ],
      "source": [
        "simlist = runMC(energyElectric(),5000,100,10000)\n",
        "print(\"The probability of begin in the ground state at a temperature of 5000 is for this simlist is\", MCProbResult(simlist, 'excited'))"
      ]
    },
    {
      "cell_type": "markdown",
      "metadata": {},
      "source": [
        "### Monte Carlo Convergence\n",
        "Below, we do a convergence test for the Monte Carlo simulation to calculate the probability of being in the 'excited' state."
      ]
    },
    {
      "cell_type": "code",
      "execution_count": 28,
      "metadata": {},
      "outputs": [],
      "source": [
        "state = energyElectric() # Pick some random state, between Excited or Ground\n",
        "temperature = 5000 # in K \n",
        "convergenceTest = [] #dont change this; re-initializes the list of outcomes\n",
        "for nDataCol in np.arange(1000,100000,2000): #dont change this; this specifies how many simulations\n",
        "    convergenceTest.append(MCProbResult(runMC(state,temperature,100,10000),'excited')) #put something in here to append to the list\n",
        "# convergenceTest"
      ]
    },
    {
      "cell_type": "markdown",
      "metadata": {},
      "source": [
        "### Monte Carlo Plot\n",
        "Below, we plot the MC steps versus the exact calculation of the probability of begin in the excited. There seems to be a large amount of varience for our MC simulation, however, the graph is making the graph look deceiving. The varience is occuring within $\\pm 0.02$ of the exact value. "
      ]
    },
    {
      "cell_type": "code",
      "execution_count": 29,
      "metadata": {},
      "outputs": [
        {
          "data": {
            "text/plain": [
              "<matplotlib.legend.Legend at 0x24b69b8c370>"
            ]
          },
          "execution_count": 29,
          "metadata": {},
          "output_type": "execute_result"
        },
        {
          "data": {
            "image/png": "[encoded data removed]",
            "text/plain": [
              "<Figure size 432x288 with 1 Axes>"
            ]
          },
          "metadata": {
            "needs_background": "light"
          },
          "output_type": "display_data"
        }
      ],
      "source": [
        "plt.plot(np.arange(1000,100000,2000),convergenceTest,label='simulated')\n",
        "plt.axhline(exactProbResult('excited',5000), color='r', linestyle='-',label='exact') #plot a horizontal line at the exact value\n",
        "plt.xlabel(\"number of steps\",fontsize=20)\n",
        "plt.ylabel(\"prob. of being in Excited\",fontsize=20)\n",
        "plt.legend(fontsize=20)"
      ]
    }
  ],
  "metadata": {
    "colab": {
      "provenance": []
    },
    "kernelspec": {
      "display_name": "Python 3",
      "name": "python3"
    },
    "language_info": {
      "codemirror_mode": {
        "name": "ipython",
        "version": 3
      },
      "file_extension": ".py",
      "mimetype": "text/x-python",
      "name": "python",
      "nbconvert_exporter": "python",
      "pygments_lexer": "ipython3",
      "version": "3.9.7"
    }
  },
  "nbformat": 4,
  "nbformat_minor": 0
}
