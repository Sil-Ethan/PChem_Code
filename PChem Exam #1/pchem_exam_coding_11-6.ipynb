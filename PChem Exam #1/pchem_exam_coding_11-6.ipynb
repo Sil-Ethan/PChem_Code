{
 "cells": [
  {
   "cell_type": "code",
   "execution_count": 37,
   "metadata": {},
   "outputs": [],
   "source": [
    "import numpy as np\n",
    "import matplotlib.pyplot as plt\n",
    "import sympy as sy\n",
    "from scipy import constants"
   ]
  },
  {
   "cell_type": "markdown",
   "metadata": {},
   "source": [
    "# Exam Question 11-6:\n",
    "In this question, we conduct an exact partition function calculation of the two lowest electric states of atomic iodine with it's fourfold degenerate ground electric state ($E=0 \\text{ eV}$) and it's twofold degenerate first excited state ($E=0.9427 \\text{ eV}$). We then also do a Monte Carlo simulation of this system to calculate the probability of being in the excited state. "
   ]
  },
  {
   "cell_type": "markdown",
   "metadata": {},
   "source": [
    "# Exact Partition Function Calculation\n",
    "Below, we calculate the exact partition function. We do this by using the following formula provided in the book: $$q_{\\text{elect}}(T)=g_{e1}+g_{e2}e^{\\varepsilon_{e2}/k_BT}+\\cdots$$ where we only care about the first two terms. We know that $g_{e1}=4,g_{e2}=2$, and to represent that degeneracy, we follow the hint provided and create a list with the electronic energies that we will randomly pull from. We then calculate the following probability for being in the first excited state:\n",
    "\n",
    "$$f_{\\text{excited}}=\\frac{g_{e2}e^{\\varepsilon_{e2}/k_BT}}{q_{\\text{elect}}(T)}$$\n",
    "\n",
    "The code we use to complete that task is the below cell. "
   ]
  },
  {
   "cell_type": "code",
   "execution_count": 38,
   "metadata": {},
   "outputs": [],
   "source": [
    "energy_list = np.array([0,0,0,0,0.9427,0.9427]) # creates an energy_list which includes degeneracy\n",
    "energy_list = energy_list*1.6022e-19 # eV to Joules\n",
    "\n",
    "\n",
    "\"\"\"\n",
    "Function: energyElectric()\n",
    "Inputs: N/A\n",
    "Outputs: ground or excited (string)\n",
    "\n",
    "Task: Given our list energy_list, randomly choose one of the entries in that list. If num==0, we are in the\n",
    "ground state, otherwise we are in the excited state. \n",
    "\"\"\"\n",
    "def energyElectric(): #  decides if we are in the excited or ground state.\n",
    "    num = np.random.choice(energy_list,size=1)\n",
    "    if num == 0:\n",
    "       return \"ground\"\n",
    "    if num == 0.9427*1.6022e-19:\n",
    "       return \"excited\"\n",
    "\n",
    "\"\"\"\n",
    "Function: qExact(state,T)\n",
    "Inputs: state (string), T (float)\n",
    "Outputs: Q (float)\n",
    "\n",
    "Task: Calculates the partition function for our system by summing all of the boltzman factors of our \n",
    "system. \n",
    "\"\"\"\n",
    "def qExact(state,T): \n",
    "    \"\"\"calculate the exact value of the partition function\"\"\"\n",
    "    Q = 0 \n",
    "    # Just have to sum the boltzman factors of the six states in our system. \n",
    "    for energy in energy_list:\n",
    "        Q = Q + sy.exp(-energy/(constants.Boltzmann*T))\n",
    "    return Q\n",
    "\n",
    "\"\"\" \n",
    "Function: exactProbResult(state,T)\n",
    "Inputs: state (string), T (float)\n",
    "\n",
    "Task: Calculates the probability of being in the ground state or excited state given a particular Temperature \n",
    "\"\"\"\n",
    "def exactProbResult(state,T):\n",
    "    if state == 'ground':\n",
    "        return sy.N(4*sy.exp(-energy_list[0]/(constants.Boltzmann*T))/qExact(state,T))\n",
    "    elif state == 'excited':\n",
    "        return sy.N(2*sy.exp(-energy_list[5]/(constants.Boltzmann*T))/qExact(state,T))"
   ]
  },
  {
   "cell_type": "code",
   "execution_count": 39,
   "metadata": {},
   "outputs": [
    {
     "name": "stdout",
     "output_type": "stream",
     "text": [
      "The exact probability of being in the excited state is 5.31%\n"
     ]
    }
   ],
   "source": [
    "print(\"The exact probability of being in the excited state is {:.2%}\".format(exactProbResult('excited',5000)))"
   ]
  },
  {
   "cell_type": "markdown",
   "metadata": {},
   "source": [
    "# Monte Carlo Functions\n",
    "\n",
    "##### Collaborators: Aidan Cosgrove, Casey, Spencer (though we didn't explicitly work together) gave me the idea for my solution\n",
    "Below, we define the various Monte Carlo (MC) functions required to perform a MC simulation for this electric simulation. These functions follow the same format as the vibrational frequency MC functions. Each functions purpose is described in the string statement above the prespective function. The main functions defined below are the following: calc_energy(), count(samples, entry), MCstep(state,T), runMC(initial_state, temperature, nEquil, num_steps), and MCProbResult(vSamples, vTarget)."
   ]
  },
  {
   "cell_type": "code",
   "execution_count": 40,
   "metadata": {},
   "outputs": [],
   "source": [
    "\"\"\"\n",
    "Function: calc_energy(state)\n",
    "Inputs: state (string)\n",
    "Outputs: state calculationg (float)\n",
    "\n",
    "Task: Takes in the input 'ground' or 'excited' and returns the associated energy calculation for that energy level in J.\n",
    "\"\"\"\n",
    "def calc_energy(state):\n",
    "   if state == \"ground\":\n",
    "      return 0\n",
    "   if state == \"excited\":\n",
    "      return 0.9427*1.6022e-19 # Units in Joules\n",
    "   \n",
    "\n",
    "\"\"\"\n",
    "Function: count(samples,entry)\n",
    "\n",
    "Copied and kept entirely the same as the vibrational example. \n",
    "\"\"\"\n",
    "def count(samples, entry):\n",
    "  \"\"\"making a python equivalent for the Mathematica \"Count[]\" function.\n",
    "  \"samples\" should be your list of samples.\n",
    "  \"entry\" should be which kind of entry you'd like to code to count for you.\n",
    "  these are the same inputs that the Mathematica function would expect.\"\"\"\n",
    "  items, counts = np.unique(samples, axis=0, return_counts=True) # tally\n",
    "  for i in range(len(items)):\n",
    "    if np.array_equal(items[i],entry):\n",
    "      return counts[i]\n",
    "\n",
    "\"\"\"\n",
    "Function: MCStep(state, T)\n",
    "Inputs: state (string), T (float)\n",
    "\n",
    "Task: Calculates deltaE between new_state - state, and if deltaE <= 0, then our system does not experience a desired change. \n",
    "However, if deltaE > 0, then we will take that change at the probability of the Boltzman distribution for that deltaE. If \n",
    "we do not accept the change, then we will return the original state. \n",
    "\"\"\"\n",
    "def MCstep(state,T):\n",
    "    new_state = energyElectric()\n",
    "    deltaE = calc_energy(new_state) - calc_energy(state)\n",
    "    if deltaE <= 0:\n",
    "      return new_state\n",
    "    else:\n",
    "      randn = np.random.random()\n",
    "      if randn < np.exp(-deltaE/(constants.Boltzmann*T)):\n",
    "        return new_state\n",
    "      else:\n",
    "        return state\n",
    "\n",
    "\"\"\"\n",
    "What we are doing right now is finding the exact partial function. What we want to do with the Monte Carlo \n",
    "Simulation is see if we can have it be the same as the exact partial function. Our Monte Carlo simulation will follow\n",
    "The following formatting:\n",
    "\n",
    "Function: runMC(initial_state, temperature, nEquil, num_steps)\n",
    "Inputs: initial_state(string), temperature(float), nEquil(integar), num_steps(integar)\n",
    "Ouputs: states (list)\n",
    "\n",
    "Task: Run the MCStep equal to num_steps, and then for every nEquil, we log that state. We then return a list of the states \n",
    "we collect from the Monte Carlo simulation. \n",
    "\"\"\"\n",
    "def runMC(initial_state, temperature, nEquil, num_steps):\n",
    "    \"\"\"Run a Monte Carlo simulation.\"\"\"\n",
    "    states = [] # holds all the states\n",
    "    current_state = initial_state # start either in ground or excited state\n",
    "\n",
    "    for i in range(num_steps):\n",
    "        current_state = MCstep(current_state, temperature) # change the state to the new state determined in MCStep\n",
    "        if i%100 == 0:\n",
    "            states.append(current_state)\n",
    "    return states\n",
    "\n",
    "\"\"\"\n",
    "Function: MCProbResult(vSamples, vTarget)\n",
    "Inputs: eSamples (list), eTarget(string)\n",
    "Outputs: count(list, target)/len(eSamples)\n",
    "\n",
    "Task: Calculates the probability of being either the ground state or the excited state based\n",
    "on the MC simulation. \n",
    "\"\"\"\n",
    "def MCProbResult(eSamples, eTarget):\n",
    "    \"\"\"\n",
    "    Calculate the probability of an energy level given data from a\n",
    "    Monte Carlo simulation.\n",
    "    \"\"\"\n",
    "    if eTarget == 'ground':\n",
    "       target = 0\n",
    "    elif eTarget == 'excited':\n",
    "       target = 1\n",
    "\n",
    "    list = []\n",
    "\n",
    "    \"\"\"\n",
    "    Interesting concept below, we only care about the two binaries of 'ground' and 'excited.' Thus, when we count up our list,\n",
    "    we instead treat ground = 0 and excited = 1. We merely want to count how many we have in either the ground of excited state,\n",
    "    and calculating that amount is easier when we associate with energy with a number after getting our list. \n",
    "    \"\"\"\n",
    "    for i in range(len(eSamples)): \n",
    "      if eSamples[i] == 'ground':\n",
    "        list.append(0)\n",
    "      elif eSamples[i] == 'excited':\n",
    "        list.append(1)\n",
    "    return count(list, target)/len(eSamples)\n"
   ]
  },
  {
   "cell_type": "code",
   "execution_count": 41,
   "metadata": {},
   "outputs": [
    {
     "name": "stdout",
     "output_type": "stream",
     "text": [
      "The probability of begin in the ground state at a temperature of 5000 is 0.96\n"
     ]
    }
   ],
   "source": [
    "simlist = runMC(energyElectric(),5000,100,10000)\n",
    "print(\"The probability of begin in the ground state at a temperature of 5000 is\", MCProbResult(simlist, 'ground'))"
   ]
  },
  {
   "cell_type": "markdown",
   "metadata": {},
   "source": [
    "### Monte Carlo Convergence\n",
    "Below, we do a convergence test for the Monte Carlo simulation to calculate the probability of being in the 'excited' state."
   ]
  },
  {
   "cell_type": "code",
   "execution_count": 46,
   "metadata": {},
   "outputs": [],
   "source": [
    "state = energyElectric() # Pick some random state, between Excited or Ground\n",
    "temperature = 5000 # in K \n",
    "convergenceTest = [] #dont change this; re-initializes the list of outcomes\n",
    "for nDataCol in np.arange(1000,100000,2000): #dont change this; this specifies how many simulations\n",
    "    convergenceTest.append(MCProbResult(runMC(state,temperature,100,10000),'excited')) #put something in here to append to the list\n",
    "# convergenceTest"
   ]
  },
  {
   "cell_type": "markdown",
   "metadata": {},
   "source": [
    "### Monte Carlo Plot\n",
    "Below, we plot the MC steps versus the exact calculation of the probability of begin in the excited. There seems to be a large amount of varience for our MC simulation, however, the graph is making the graph look deceiving. The varience is occuring within $\\pm 0.02$ of the exact value. "
   ]
  },
  {
   "cell_type": "code",
   "execution_count": 47,
   "metadata": {},
   "outputs": [
    {
     "data": {
      "text/plain": [
       "<matplotlib.legend.Legend at 0x1c3c05ca4f0>"
      ]
     },
     "execution_count": 47,
     "metadata": {},
     "output_type": "execute_result"
    },
    {
     "data": {
      "image/png": "[encoded data removed]",
      "text/plain": [
       "<Figure size 432x288 with 1 Axes>"
      ]
     },
     "metadata": {
      "needs_background": "light"
     },
     "output_type": "display_data"
    }
   ],
   "source": [
    "plt.plot(np.arange(1000,100000,2000),convergenceTest,label='simulated')\n",
    "plt.axhline(exactProbResult('excited',5000), color='r', linestyle='-',label='exact') #plot a horizontal line at the exact value\n",
    "plt.xlabel(\"number of steps\",fontsize=20)\n",
    "plt.ylabel(\"probability of Excited\",fontsize=20)\n",
    "plt.legend(fontsize=20)"
   ]
  }
 ],
 "metadata": {
  "kernelspec": {
   "display_name": "base",
   "language": "python",
   "name": "python3"
  },
  "language_info": {
   "codemirror_mode": {
    "name": "ipython",
    "version": 3
   },
   "file_extension": ".py",
   "mimetype": "text/x-python",
   "name": "python",
   "nbconvert_exporter": "python",
   "pygments_lexer": "ipython3",
   "version": "3.9.7"
  },
  "orig_nbformat": 4
 },
 "nbformat": 4,
 "nbformat_minor": 2
}
