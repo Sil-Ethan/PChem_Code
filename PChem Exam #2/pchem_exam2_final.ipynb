{
 "cells": [
  {
   "cell_type": "markdown",
   "metadata": {},
   "source": [
    "# Question 12-5\n",
    "Below is my code for Q12-5! The question is the following: \n",
    "\n",
    "Perform a Monte Carlo simulation of the finite $6 \\times 6$ system, using $10^4$ equilibration steps and $2\\times 10^5$ data collection steps, sampled every 1000 steps, where $B=0,J=-1$ and for a temperature range of $1\\leq K_BT\\leq 10$. Plot the results of the mean net magnetization, mean energy, and heat capacity as a function of temperature. "
   ]
  },
  {
   "cell_type": "code",
   "execution_count": null,
   "metadata": {},
   "outputs": [],
   "source": [
    "import numpy as np\n",
    "from matplotlib import pyplot as plt\n",
    "import sympy as sy"
   ]
  },
  {
   "cell_type": "code",
   "execution_count": null,
   "metadata": {},
   "outputs": [],
   "source": [
    "def arrayPlot(array,vmin=0,vmax=None):\n",
    "    \"\"\"A python version of the ArrayPlot[] function in Mathematica\"\"\"\n",
    "    fig, ax = plt.subplots()\n",
    "    ax.set_yticklabels([])\n",
    "    ax.set_xticklabels([])\n",
    "    ax.imshow(array,cmap='Greys',vmin=vmin,vmax=vmax)\n",
    "    plt.show()\n",
    "def runMCmovie(kT,J,B,MCstepFunction, ax,config):\n",
    "    \"\"\"a python version of the runMCmovie function\"\"\"\n",
    "    newConfig = config.copy()\n",
    "    trajectory = []\n",
    "    for _ in range(1500):\n",
    "        newConfig = MCstepFunction(kT,J,B,newConfig)\n",
    "        ax.set_yticklabels([])\n",
    "        ax.set_xticklabels([])\n",
    "        arrayplot = [ax.imshow(newConfig,cmap='Greys',\n",
    "                               vmin=-1,vmax=1, animated=True)]\n",
    "        # print(arrayplot)\n",
    "        trajectory.append(arrayplot)\n",
    "    return trajectory #a list of arrayplot outputs"
   ]
  },
  {
   "cell_type": "code",
   "execution_count": null,
   "metadata": {},
   "outputs": [],
   "source": [
    "def energyIsing2D(config,J,B):\n",
    "    \"\"\"\n",
    "    Function for calculating the energy of an Ising Model.\n",
    "    Requires a config (the Ising Model in question), a value of J (interaction parameter)\n",
    "    and a value for B (external field parameter)\n",
    "    \"\"\"\n",
    "    energyB,energyJ = 0,0 # Initializes local variables\n",
    "    for row in range(len(config)): # Loop over rows\n",
    "        for col in range(len(config)): # Simultaneously loop over columns\n",
    "            energyB += B*config[row,col]\n",
    "            if row>0: # Up\n",
    "                energyJ += J*config[row-1,col]*config[row,col] # Interior\n",
    "            else:\n",
    "                energyJ += J*config[len(config)-1,col]*config[row,col] # Periodic boundary conditions\n",
    "            if row<len(config)-1: # Down\n",
    "                energyJ += J*config[row+1,col]*config[row,col] # Interior\n",
    "            else:\n",
    "                energyJ += J*config[0,col]*config[row,col] # Periodic boundary conditions\n",
    "            if col>0: # Left\n",
    "                energyJ += J*config[row,col-1]*config[row,col] # Interior\n",
    "            else:\n",
    "                energyJ += J*config[row,len(config)-1]*config[row,col] # Periodic boundary conditions\n",
    "            if col<len(config)-1: # right\n",
    "                energyJ += J*config[row,col+1]*config[row,col] # Interior\n",
    "            else:\n",
    "                energyJ += J*config[row,0]*config[row,col] # Periodic boundary conditions\n",
    "    return energyB + energyJ/2 # Removes double counting\n",
    "\n",
    "def MCstepPBC(kT,J,B,config):\n",
    "    \"\"\"MC step for Periodic Ising Model\"\"\"\n",
    "    newConfig = config.copy()\n",
    "    row,col = np.random.randint(0,len(config),2)\n",
    "    Estart = config[row,col]*B\n",
    "    if row>0: # Up\n",
    "        Estart += J*config[row-1,col]*config[row,col] # Interior\n",
    "    else:\n",
    "        Estart += J*config[len(config)-1,col]*config[row,col] # Periodic boundary conditions\n",
    "    if row<len(config)-1: # Down\n",
    "        Estart += J*config[row+1,col]*config[row,col] # Interior\n",
    "    else:\n",
    "        Estart += J*config[0,col]*config[row,col] # Periodic boundary conditions\n",
    "    if col>0: # Left\n",
    "        Estart += J*config[row,col-1]*config[row,col] # Interior\n",
    "    else:\n",
    "        Estart += J*config[row,len(config)-1]*config[row,col] # Periodic boundary conditions\n",
    "    if col<len(config)-1: # right\n",
    "        Estart += J*config[row,col+1]*config[row,col] # Interior\n",
    "    else:\n",
    "        Estart += J*config[row,0]*config[row,col] # Periodic boundary conditions\n",
    "    Eend = -Estart\n",
    "\n",
    "    if Eend < Estart: #did energy decrease?\n",
    "      newConfig[row,col] *= -1 # Then flip the spin\n",
    "    else:\n",
    "      if np.all(np.random.random() <= np.exp(-(Eend-Estart)/kT)): # If a random number is less than the probability\n",
    "        newConfig[row,col] *= -1 # Then flip the spin\n",
    "\n",
    "    return newConfig # Return the potentially altered array"
   ]
  },
  {
   "cell_type": "code",
   "execution_count": null,
   "metadata": {},
   "outputs": [],
   "source": [
    "def netMagnetization(config):\n",
    "    \"\"\"Python version of the second netMagnetization[] function Schrier writes\n",
    "    automatically includes summation over all levels of the array\"\"\"\n",
    "    return np.sum(config)\n",
    "def netMagnetizationPerSpin(config):\n",
    "  \"\"\"Python version of net magnetization function\"\"\"\n",
    "  return netMagnetization(config)/len(config)**2\n",
    "def mean_net_magnetization(config):\n",
    "    return np.abs(netMagnetizationPerSpin(config))\n",
    "def energyPerSpin(config,J,B,energyFunction):\n",
    "    \"\"\"\"calculate the energy per spin based on a\n",
    "    particular ising model configuation \"config\",\n",
    "    an interaction parameter \"J\"\n",
    "    an external field parameter \"B\"\n",
    "    and a function for calculating the energy\"\"\"\n",
    "    return energyFunction(config,J,B)/len(config)**2\n",
    "def mean_energy(config, J, B):\n",
    "    return energyPerSpin(config, J, B, energyIsing2D)\n",
    "\n",
    "def heat_capacity(config, J, B, kT):\n",
    "    return energyPerSpin(config, J, B, energyIsing2D)**2 / (kT**2)"
   ]
  },
  {
   "cell_type": "code",
   "execution_count": null,
   "metadata": {},
   "outputs": [],
   "source": [
    "def runMC(kT, J, B, nEquil, nDataCol, sampleInterval, config, MCstepFunction, energyFunction):\n",
    "    \"\"\"function to run the Ising model MC simulation and collectsamples\"\"\"\n",
    "    results = {'temperature': [], 'mean_net_magnetization': [], 'mean_energy': [], 'heat_capacity': []}\n",
    "    Esamples = []\n",
    "    Msamples = []\n",
    "    for Temp in kT:\n",
    "        print(f\"Running simulation for temperature kT={Temp}\")\n",
    "        newConfig = config.copy()\n",
    "        for _ in range(nEquil):\n",
    "            newConfig = MCstepFunction(Temp, J, B, newConfig)\n",
    "        for i in range(nDataCol):\n",
    "            newConfig = MCstepFunction(Temp, J, B, newConfig)\n",
    "            if i % sampleInterval == 0:\n",
    "                Esamples.append(energyFunction(newConfig,J,B))\n",
    "                Msamples.append(abs(netMagnetizationPerSpin(newConfig)))\n",
    "        Esamples = np.array(Esamples)\n",
    "        Msamples = np.array(Msamples)\n",
    "        results['temperature'].append(Temp)\n",
    "        results['mean_net_magnetization'].append(Msamples.mean())\n",
    "        results['mean_energy'].append(Esamples.mean()/len(newConfig)**2)\n",
    "        results['heat_capacity'].append(Esamples.var()/(len(newConfig)**2*Temp**2))\n",
    "        Esamples = Esamples.tolist()\n",
    "        Msamples = Msamples.tolist()\n",
    "    return results "
   ]
  },
  {
   "cell_type": "code",
   "execution_count": null,
   "metadata": {},
   "outputs": [],
   "source": [
    "temperature_range = np.linspace(1, 10, 20)  # Adjust the temperature range as needed\n",
    "equilibration_steps = 10**4\n",
    "data_collection_steps = 2 * 10**5\n",
    "sample_interval = 1000\n",
    "lattice_size = 6\n",
    "J=-1 \n",
    "B=0\n",
    "checkerboardConfig = np.array([[(-1)**(row+col) for row in range(lattice_size)] for col in range(lattice_size)])\n",
    "\n",
    "simulation_results = runMC(temperature_range, J, B, equilibration_steps, data_collection_steps, sample_interval, checkerboardConfig, MCstepPBC, energyIsing2D)"
   ]
  },
  {
   "cell_type": "code",
   "execution_count": null,
   "metadata": {},
   "outputs": [],
   "source": [
    "print(simulation_results)"
   ]
  },
  {
   "cell_type": "code",
   "execution_count": null,
   "metadata": {},
   "outputs": [],
   "source": [
    "# Plot the results using Seaborn\n",
    "import seaborn as sns\n",
    "plt.figure(figsize=(12, 8))\n",
    "\n",
    "plt.subplot(2, 2, 1)\n",
    "sns.lineplot(x=simulation_results['temperature'], y=simulation_results['mean_net_magnetization'], marker='o')\n",
    "plt.title('Mean Net Magnetization vs Temperature')\n",
    "plt.xlabel('Temperature (kT)')\n",
    "plt.ylabel('Mean Net Magnetization')\n",
    "\n",
    "plt.subplot(2, 2, 2)\n",
    "sns.lineplot(x=simulation_results['temperature'], y=simulation_results['mean_energy'], marker='o')\n",
    "plt.title('Mean Energy vs Temperature')\n",
    "plt.xlabel('Temperature (kT)')\n",
    "plt.ylabel('Mean Energy')\n",
    "\n",
    "plt.subplot(2, 2, 3)\n",
    "sns.lineplot(x=simulation_results['temperature'], y=simulation_results['heat_capacity'], marker='o')\n",
    "plt.title('Heat Capacity vs Temperature')\n",
    "plt.xlabel('Temperature (kT)')\n",
    "plt.ylabel('Heat Capacity')\n",
    "\n",
    "plt.tight_layout()\n",
    "plt.show()"
   ]
  },
  {
   "cell_type": "markdown",
   "metadata": {},
   "source": [
    "### Results \n",
    "The results here makes sense for what we would expect! We do expect the mean net magnetitization to go down as temperature increases, and we also expect for the mean energy to also increase opposite to the mean net magnetiziation. We also would expect a phase transition to occur around 2.6 which happens. Thus, we have successfully modeled this system!"
   ]
  },
  {
   "cell_type": "markdown",
   "metadata": {},
   "source": [
    "# Question 13-7\n",
    "\n",
    "Below is my code for Q13-7! The question is the following: \n",
    "\n",
    "Consider a $10\\times 10$ periodic 2D Ising model wehre the interactions within the rows alternate between ferromagnetic ($J=-1$) and antiferromagnetic ($J=+1$) nearest-neighbor interactions, and the interactions between rows are always ferromagnetic ($J=-1$). First, modify the energy evaluation and Monte Carlo updating functions to implement this new model. Then calculate the net magnetization and magnetic susceptibility as a function of temperature, $1\\leq K_BT/|J| \\leq 4$. Describe how the results for the interdigitated system differ from the entirely ferromagnetic and antiferromagnetic systems. Speculate on why the differencei n phase transition (as a function of temperature) is useful for measuring the magnetic fields in hard drives. "
   ]
  },
  {
   "cell_type": "markdown",
   "metadata": {},
   "source": [
    "### Importing Packages\n",
    "The main packages I use within this code are numpy and matplotlib. "
   ]
  },
  {
   "cell_type": "code",
   "execution_count": null,
   "metadata": {},
   "outputs": [],
   "source": [
    "import numpy as np\n",
    "from matplotlib import pyplot as plt\n",
    "import sympy as sy"
   ]
  },
  {
   "cell_type": "markdown",
   "metadata": {},
   "source": [
    "### Functions for Animation Movies\n",
    "I copied the the functions from the previous code from the Jupyter Notebooks. One thing to note though, runMCMovie now has an input ```config``` so that we can look an different starting configurations. "
   ]
  },
  {
   "cell_type": "code",
   "execution_count": null,
   "metadata": {},
   "outputs": [],
   "source": [
    "def arrayPlot(array,vmin=0,vmax=None):\n",
    "    \"\"\"A python version of the ArrayPlot[] function in Mathematica\"\"\"\n",
    "    fig, ax = plt.subplots()\n",
    "    ax.set_yticklabels([])\n",
    "    ax.set_xticklabels([])\n",
    "    ax.imshow(array,cmap='Greys',vmin=vmin,vmax=vmax)\n",
    "    plt.show()\n",
    "def runMCmovie(kT,J,B,MCstepFunction, ax,config):\n",
    "    \"\"\"a python version of the runMCmovie function\"\"\"\n",
    "    newConfig = config.copy()\n",
    "    trajectory = []\n",
    "    for _ in range(1500):\n",
    "        newConfig = MCstepFunction(kT,J,B,newConfig)\n",
    "        ax.set_yticklabels([])\n",
    "        ax.set_xticklabels([])\n",
    "        arrayplot = [ax.imshow(newConfig,cmap='Greys',\n",
    "                               vmin=-1,vmax=1, animated=True)]\n",
    "        # print(arrayplot)\n",
    "        trajectory.append(arrayplot)\n",
    "    return trajectory #a list of arrayplot outputs"
   ]
  },
  {
   "cell_type": "markdown",
   "metadata": {},
   "source": [
    "### RunMC Function\n",
    "\n",
    "We copied the same ```netMagnetization```, ```netMagnetizationPerSpin```, and ```runMC``` from the previous Ising Model Jupyter Notebook. One thing to note in the ```runMC``` portion is that I am now calculating the value ```Esamples.var()*len(config)**2/(kT**2), # MS per spin``` which is the calculation for Magnet Suspectibility per Spin. "
   ]
  },
  {
   "cell_type": "code",
   "execution_count": null,
   "metadata": {},
   "outputs": [],
   "source": [
    "def netMagnetization(config):\n",
    "    \"\"\"Python version of the second netMagnetization[] function Schrier writes\n",
    "    automatically includes summation over all levels of the array\"\"\"\n",
    "    return np.sum(config)\n",
    "def netMagnetizationPerSpin(config):\n",
    "  \"\"\"Python version of net magnetization function\"\"\"\n",
    "  return netMagnetization(config)/len(config)**2\n",
    "def runMC(kT, J, B, nEquil, nDataCol, sampleInterval, config, MCstepFunction, energyFunction):\n",
    "    \"\"\"function to run the Ising model MC simulation and collectsamples\"\"\"\n",
    "    Esamples = []\n",
    "    Msamples = []\n",
    "    newConfig = config.copy()\n",
    "    for i in range(nEquil):\n",
    "        newConfig = MCstepFunction(kT, J, B, newConfig)\n",
    "    for i in range(nDataCol):\n",
    "        newConfig = MCstepFunction(kT, J, B, newConfig)\n",
    "        if i % sampleInterval == 0:\n",
    "            Esamples.append(energyFunction(newConfig,J,B))\n",
    "            Msamples.append(abs(netMagnetizationPerSpin(newConfig)))\n",
    "    Esamples = np.array(Esamples)\n",
    "    Msamples = np.array(Msamples)\n",
    "    return [Esamples.mean()/len(config)**2, # Mean Energy per spin\n",
    "           Esamples.var()*len(config)**2/(kT**2), # Magnet Suspectibility per spin\n",
    "           Msamples.mean(), # Average net magnetization per spin\n",
    "           np.var(Esamples)/(len(config)*kT**2), # Heat Capacity\n",
    "           newConfig] # The Final configuration"
   ]
  },
  {
   "cell_type": "markdown",
   "metadata": {},
   "source": [
    "### Functions for MCSteps\n",
    "\n",
    "We have two main functions within the next Code Block: ```energyIsing2D(config,J,B)``` and ```MCstepPBC(kT,J,B,config)```. There are multiple things to note that with our calculations though: \n",
    "- Our Up and Down interactions are always favorable! So those interactions will always be $J=-1$! \n",
    "- Our left and right interactions are always alternating! What does that mean though? Take the following example:\n",
    "\n",
    "Let our column decision be the first column, then let our interaction with its left partner be $J=-1$ (favorable interaction) and its right partner interaction be $J=1$(unfavorable interaction) . Now, go to the second column. The interactions for the second column must alternate from the first column, thus it's left partner interactions is $J=1$ (unfavorable interaction) and its its right partner interaction are $J=-1$ (favorable interaction). This behavior will alternate back and forth throughout the whole code, creating this type of setup for the $J$ interactions: \n",
    "\n",
    "```if (col % 2) = 0 -> J_left = -1, J_right =1``` \n",
    "\n",
    "and then, ```else -> J_left = 1, J_right =-1```\n",
    "\n",
    "And, this will create a system where you have two columns of the same spin changing back and forth! Knowing this, we have changed our MCStep and energyIsing2D steps to take into account these interactions! "
   ]
  },
  {
   "cell_type": "code",
   "execution_count": null,
   "metadata": {},
   "outputs": [],
   "source": [
    "def energyIsing2D(config,J,B):\n",
    "    \"\"\"\n",
    "    Function for calculating the energy of an Ising Model.\n",
    "    Requires a config (the Ising Model in question), a value of J (interaction parameter)\n",
    "    and a value for B (external field parameter)\n",
    "    \"\"\"\n",
    "    energyB,energyJ = 0,0 # Initializes local variables\n",
    "    for row in range(len(config)): # Loop over rows\n",
    "        for col in range(len(config)): # Simultaneously loop over columns\n",
    "            energyB += B*config[row,col]\n",
    "            \"\"\"Note: the interactions up and down are always favorable which implies J=-1\"\"\"\n",
    "            if row>0: # Up\n",
    "                J = -1 \n",
    "                energyJ += J*config[row-1,col]*config[row,col]\n",
    "            else: # Periodic boundary conditions\n",
    "                J = -1 \n",
    "                energyJ += J*config[len(config)-1,col]*config[row,col] \n",
    "            if row<len(config)-1: # Down\n",
    "                J = -1 \n",
    "                energyJ += J*config[row+1,col]*config[row,col]\n",
    "            else: # Periodic boundary conditions\n",
    "                J = -1 \n",
    "                energyJ += J*config[0,col]*config[row,col] \n",
    "                \n",
    "            \"\"\"\n",
    "            Alternating Interactions Behavior:\n",
    "            Odd Columns: J_right=-1, J_left=1; \n",
    "            Even Columns: J_right=1, J_left=-1\n",
    "            \"\"\"\n",
    "            if( col % 2 == 1): # Odd Columns\n",
    "                J_right = -1\n",
    "                J_left = 1\n",
    "            else: # Even Columns\n",
    "                J_right = 1\n",
    "                J_left = -1\n",
    "\n",
    "            if col>0: # Left\n",
    "                energyJ += J_left*config[row,col-1]*config[row,col]\n",
    "            else: # Periodic boundary conditions\n",
    "                energyJ += J_left*config[row,len(config)-1]*config[row,col] \n",
    "            if col<len(config)-1: # right\n",
    "                energyJ += J_right*config[row,col+1]*config[row,col]\n",
    "            else: # Periodic boundary conditions\n",
    "                energyJ += J_right*config[row,0]*config[row,col]\n",
    "\n",
    "    return energyB + energyJ/2 # Removes double counting\n",
    "def MCstepPBC(kT,J,B,config):\n",
    "    \"\"\"MC step for Periodic Ising Model\"\"\"\n",
    "    newConfig = config.copy()\n",
    "    row,col = np.random.randint(0,len(config),2)\n",
    "    Estart = config[row,col]*B\n",
    "    \"\"\"Note: the interactions up and down are always favorable which implies J=-1\"\"\"\n",
    "    if row>0: # Up\n",
    "        J = -1 \n",
    "        Estart += J*config[row-1,col]*config[row,col] \n",
    "    else: # Periodic boundary conditions\n",
    "        J = -1 \n",
    "        Estart += J*config[len(config)-1,col]*config[row,col] \n",
    "    if row<len(config)-1: # Down\n",
    "        J = -1 \n",
    "        Estart += J*config[row+1,col]*config[row,col] \n",
    "    else: # Periodic boundary conditions\n",
    "        J = -1 \n",
    "        Estart += J*config[0,col]*config[row,col]\n",
    "\n",
    "    \"\"\"\n",
    "    Alternating Interactions Behavior:\n",
    "    Odd Columns: J_right=-1, J_left=1; \n",
    "    Even Columns: J_right=1, J_left=-1\n",
    "    \"\"\"    \n",
    "    if( col % 2 == 1): # Odd Columns \n",
    "        J_right = -1\n",
    "        J_left = 1\n",
    "    else: # Even Columns\n",
    "        J_right = 1\n",
    "        J_left = -1\n",
    "\n",
    "    if col>0: # Left\n",
    "        Estart += J_left*config[row,col-1]*config[row,col] \n",
    "    else: # Periodic boundary conditions\n",
    "        Estart += J_left*config[row,len(config)-1]*config[row,col] \n",
    "    if col<len(config)-1: # right\n",
    "        Estart += J_right*config[row,col+1]*config[row,col]\n",
    "    else: # Periodic boundary conditions\n",
    "        Estart += J_right*config[row,0]*config[row,col] \n",
    "    Eend = -Estart\n",
    "\n",
    "    if Eend < Estart: #did energy decrease?\n",
    "      newConfig[row,col] *= -1 # Then flip the spin\n",
    "    else:\n",
    "      if np.all(np.random.random() <= np.exp(-(Eend-Estart)/kT)): # If a random number is less than the probability\n",
    "        newConfig[row,col] *= -1 # Then flip the spin\n",
    "\n",
    "    return newConfig # Return the potentially altered array"
   ]
  },
  {
   "cell_type": "markdown",
   "metadata": {},
   "source": [
    "#### Defining Various Configurations\n",
    "I define the following configurations below to start our equilibrium: \n",
    "- ```Stripes```: a striped configuration where stripes swap every two columns\n",
    "- ```checkboardConfig```: original checkboard configuration\n",
    "- ```array_negative```: an configuration of all negative values\n",
    "- ```array_positive```: an configuration of all positive values"
   ]
  },
  {
   "cell_type": "code",
   "execution_count": null,
   "metadata": {},
   "outputs": [],
   "source": [
    "lattice_size = 10 # Size of our lattice\n",
    "\n",
    "# Defining Stripes configuration below\n",
    "Stripes = np.zeros((lattice_size, lattice_size))\n",
    "# Fill alternating columns with -1 and 1\n",
    "Stripes[:,::4] = -1 \n",
    "Stripes[:,1::4] = -1  \n",
    "Stripes[:,2::4] = 1   \n",
    "Stripes[:,3::4] = 1   \n",
    "\n",
    "# Original Checkboard Configuration\n",
    "checkerboardConfig = np.array([[(-1)**(row+col) for row in range(lattice_size)] for col in range(lattice_size)])\n",
    "\n",
    "array_negative = np.full((lattice_size, lattice_size), -1) # all negative configuration\n",
    "array_positive = np.full((lattice_size, lattice_size), 1) # all positive configuration"
   ]
  },
  {
   "cell_type": "markdown",
   "metadata": {},
   "source": [
    "# Running Simulations for Each Configuration\n",
    "We will now run a simulations for each configuration described above. Here are the conditions we are running for the configurations\n",
    "- Equilibration Steps: We are running 1,000,000 equilibration steps before we start collecting our data\n",
    "- Data Collection: we calculate our data for 20,000 samples after 1,000,000 equilibration steps\n",
    "- Sample Size: sample every 1000 steps (we have an array of 10 samples for calculations)\n",
    "- $J$ is already setup within our simulation\n",
    "- $B$ is zero\n",
    "- Temperature Values: we run our simulation for 20 kT values between 1 to 4\n",
    "\n",
    "We calculate the following values within our ```runMC``` step: \n",
    "- Mean Energy Spin: held within ```mean_energy_spin```\n",
    "- Mean Net Magnetization: held within ```mc_spin``` \n",
    "- Heat Capacity: held within ```heat_capacity```\n",
    "- Magnet Suspectibility: held within ```magnet_suspect```\n",
    "- Final Configuration: held within ```configurations```\n",
    "\n",
    "We plot every value (except for configurations) against temperature afterwards. "
   ]
  },
  {
   "cell_type": "markdown",
   "metadata": {},
   "source": [
    "### Magnetic Field, Self-Imposed Question\n",
    "\n",
    "We also decided to run a thought experiement about the magnetic field ```B```. We wanted to see how the heat capacity is affected as we increase ```B```, so we ran two simulations with the following conditions: \n",
    "- ```B=0``` (first four configurations described above)\n",
    "- ```B=1```\n",
    "- ```B=2```\n",
    "Note: we run this code with the ```array_positive``` configuration. We will show though that no matter the initial configuration, we run enough equilibration steps for the intitial configuration to not matter. "
   ]
  },
  {
   "cell_type": "markdown",
   "metadata": {},
   "source": [
    "### Simulation for CheckerBoard below"
   ]
  },
  {
   "cell_type": "code",
   "execution_count": null,
   "metadata": {},
   "outputs": [],
   "source": [
    "kT_values = np.linspace(1, 4, 20) # kT_values for simulation\n",
    "nEquil = 1000000 # One Million Equilibration Steps\n",
    "data_collect = 20000 # Twenty Thousand data collection steps\n",
    "sample_size = 1000 # Sample every 1000 steps\n",
    "J=-1 # J is defined for fun\n",
    "B=0  # No magnetic field for this question\n",
    "\n",
    "mean_energy_spin = []\n",
    "mc_spin = []\n",
    "magnet_suspect = []\n",
    "heat_capacity = []\n",
    "configurations = []\n",
    "\n",
    "for Temp in kT_values:\n",
    "    results = runMC(Temp, J, B, nEquil, data_collect, sample_size, checkerboardConfig, MCstepPBC, energyIsing2D)\n",
    "    mean_energy_spin.append(results[0]) \n",
    "    magnet_suspect.append(results[1]) \n",
    "    mc_spin.append(results[2]) \n",
    "    heat_capacity.append(results[3])\n",
    "    configurations.append(results[4])"
   ]
  },
  {
   "cell_type": "markdown",
   "metadata": {},
   "source": [
    "#### Plotting following Graphs: \n",
    "\n",
    "- 'Mean Net Magnetization vs Temperature'\n",
    "- 'Mean Energy vs Temperature'\n",
    "- 'Magnet Suspectibility vs Temperature'\n",
    "- 'Heat Capacity vs Temperature' (in separate block)"
   ]
  },
  {
   "cell_type": "code",
   "execution_count": null,
   "metadata": {},
   "outputs": [],
   "source": [
    "# Plot the results using Seaborn\n",
    "plt.figure(figsize=(12,8))\n",
    "\n",
    "plt.subplot(2, 2, 1)\n",
    "plt.plot(kT_values, mc_spin, marker='o')\n",
    "plt.title('Mean Net Magnetization vs Temperature')\n",
    "plt.xlabel('Temperature (kT)')\n",
    "plt.ylabel('Mean Net Magnetization')\n",
    "\n",
    "plt.subplot(2, 2, 2)\n",
    "plt.plot(kT_values, mean_energy_spin, marker='o')\n",
    "plt.title('Mean Energy vs Temperature')\n",
    "plt.xlabel('Temperature (kT)')\n",
    "plt.ylabel('Mean Energy')\n",
    "\n",
    "plt.subplot(2, 2, 3)\n",
    "plt.plot(kT_values, magnet_suspect, marker='o')\n",
    "plt.title('Magnet Suspectibility vs Temperature')\n",
    "plt.xlabel('Temperature (kT)')\n",
    "plt.ylabel('Magnet Suspectibility')\n",
    "\n",
    "\n",
    "plt.tight_layout()\n",
    "plt.show()"
   ]
  },
  {
   "cell_type": "code",
   "execution_count": null,
   "metadata": {},
   "outputs": [],
   "source": [
    "plt.plot(kT_values, heat_capacity, marker='o')\n",
    "plt.title('Heat Capacity vs Temperature')\n",
    "plt.xlabel('Temperature (kT)')\n",
    "plt.ylabel('Heat Capacity')"
   ]
  },
  {
   "cell_type": "markdown",
   "metadata": {},
   "source": [
    "#### Explanation of Plots and Answering Questions\n",
    "These are the plots of magnetic susceptibility, net magnetization, and mean energy, done with the ```checkerboardConfig``` as the initial configuration. The magnetic susceptibility graph is the most telling for the behavior of the system for different temperatures. The phase transition occurs at 2.3 kT, which is aligns with the phase transtion seen in 12-5. That system shows a phase transtion at around 2.3 kT. However, the key difference is that at 2.3 kT the 12-5 system has a mean magnetization of 0.7, however, this system has a mean magnetization of 0.07 at that value. This means that even though the distribution of the spins is extremely different the phase transition still occurs at the same value. This difference in behavior can be attributed to the interactions between the rows and columns. The antiferromagnetic and ferromagnetic changes between rows and consistency in columns and significant equilibration period allows for the system to reach a similar phase transition at b=0. Under no magnetic field."
   ]
  },
  {
   "cell_type": "markdown",
   "metadata": {},
   "source": [
    "#### Animation for Checkboard (only 1500 steps)"
   ]
  },
  {
   "cell_type": "code",
   "execution_count": null,
   "metadata": {},
   "outputs": [],
   "source": [
    "import matplotlib.animation as animation\n",
    "from matplotlib import rc\n",
    "rc('animation', html='jshtml')\n",
    "fig, ax = plt.subplots()\n",
    "images = runMCmovie(1.5,-1,0, MCstepPBC, ax, checkerboardConfig)\n",
    "ani = animation.ArtistAnimation(fig, images, interval=1000/50, blit=True,repeat_delay=500)"
   ]
  },
  {
   "cell_type": "code",
   "execution_count": null,
   "metadata": {},
   "outputs": [],
   "source": [
    "ani"
   ]
  },
  {
   "cell_type": "markdown",
   "metadata": {},
   "source": [
    "### Simulation for Stripes below:"
   ]
  },
  {
   "cell_type": "code",
   "execution_count": null,
   "metadata": {},
   "outputs": [],
   "source": [
    "mean_energy_spin = []\n",
    "mc_spin = []\n",
    "magnet_suspect = []\n",
    "heat_capacity = []\n",
    "configurations = []\n",
    "\n",
    "for Temp in kT_values:\n",
    "    results = runMC(Temp, J, B, nEquil, data_collect, sample_size, Stripes, MCstepPBC, energyIsing2D)\n",
    "    mean_energy_spin.append(results[0]) \n",
    "    magnet_suspect.append(results[1]) \n",
    "    mc_spin.append(results[2]) \n",
    "    heat_capacity.append(results[3])\n",
    "    configurations.append(results[4])"
   ]
  },
  {
   "cell_type": "markdown",
   "metadata": {},
   "source": [
    "#### Plotting following Graphs: \n",
    "\n",
    "- 'Mean Net Magnetization vs Temperature'\n",
    "- 'Mean Energy vs Temperature'\n",
    "- 'Magnet Suspectibility vs Temperature'\n",
    "- 'Heat Capacity vs Temperature' (in separate block)"
   ]
  },
  {
   "cell_type": "code",
   "execution_count": null,
   "metadata": {},
   "outputs": [],
   "source": [
    "# Plot the results using Seaborn\n",
    "plt.figure(figsize=(12,8))\n",
    "\n",
    "plt.subplot(2, 2, 1)\n",
    "plt.plot(kT_values, mc_spin, marker='o')\n",
    "plt.title('Mean Net Magnetization vs Temperature')\n",
    "plt.xlabel('Temperature (kT)')\n",
    "plt.ylabel('Mean Net Magnetization')\n",
    "\n",
    "plt.subplot(2, 2, 2)\n",
    "plt.plot(kT_values, mean_energy_spin, marker='o')\n",
    "plt.title('Mean Energy vs Temperature')\n",
    "plt.xlabel('Temperature (kT)')\n",
    "plt.ylabel('Mean Energy')\n",
    "\n",
    "plt.subplot(2, 2, 3)\n",
    "plt.plot(kT_values, magnet_suspect, marker='o')\n",
    "plt.title('Magnet Suspectibility vs Temperature')\n",
    "plt.xlabel('Temperature (kT)')\n",
    "plt.ylabel('Magnet Suspectibility')\n",
    "\n",
    "\n",
    "plt.tight_layout()\n",
    "plt.show()"
   ]
  },
  {
   "cell_type": "code",
   "execution_count": null,
   "metadata": {},
   "outputs": [],
   "source": [
    "plt.plot(kT_values, heat_capacity, marker='o')\n",
    "plt.title('Heat Capacity vs Temperature')\n",
    "plt.xlabel('Temperature (kT)')\n",
    "plt.ylabel('Heat Capacity')"
   ]
  },
  {
   "cell_type": "markdown",
   "metadata": {},
   "source": [
    "#### Animation for Stripes (only 1500 steps)"
   ]
  },
  {
   "cell_type": "code",
   "execution_count": null,
   "metadata": {},
   "outputs": [],
   "source": [
    "import matplotlib.animation as animation\n",
    "from matplotlib import rc\n",
    "rc('animation', html='jshtml')\n",
    "fig, ax = plt.subplots()\n",
    "images = runMCmovie(1.5,-1,0, MCstepPBC, ax, Stripes)\n",
    "ani = animation.ArtistAnimation(fig, images, interval=1000/50, blit=True,repeat_delay=500)"
   ]
  },
  {
   "cell_type": "code",
   "execution_count": null,
   "metadata": {},
   "outputs": [],
   "source": [
    "ani"
   ]
  },
  {
   "cell_type": "markdown",
   "metadata": {},
   "source": [
    "### Simulation for ```array_negative``` below:"
   ]
  },
  {
   "cell_type": "code",
   "execution_count": null,
   "metadata": {},
   "outputs": [],
   "source": [
    "mean_energy_spin = []\n",
    "mc_spin = []\n",
    "magnet_suspect = []\n",
    "heat_capacity = []\n",
    "configurations = []\n",
    "\n",
    "for Temp in kT_values:\n",
    "    results = runMC(Temp, J, B, nEquil, data_collect, sample_size, array_negative, MCstepPBC, energyIsing2D)\n",
    "    mean_energy_spin.append(results[0]) \n",
    "    magnet_suspect.append(results[1]) \n",
    "    mc_spin.append(results[2]) \n",
    "    heat_capacity.append(results[3])\n",
    "    configurations.append(results[4])"
   ]
  },
  {
   "cell_type": "markdown",
   "metadata": {},
   "source": [
    "#### Plotting following Graphs: \n",
    "\n",
    "- 'Mean Net Magnetization vs Temperature'\n",
    "- 'Mean Energy vs Temperature'\n",
    "- 'Magnet Suspectibility vs Temperature'\n",
    "- 'Heat Capacity vs Temperature' (in separate block)"
   ]
  },
  {
   "cell_type": "code",
   "execution_count": null,
   "metadata": {},
   "outputs": [],
   "source": [
    "# Plot the results using Seaborn\n",
    "plt.figure(figsize=(12,8))\n",
    "\n",
    "plt.subplot(2, 2, 1)\n",
    "plt.plot(kT_values, mc_spin, marker='o')\n",
    "plt.title('Mean Net Magnetization vs Temperature')\n",
    "plt.xlabel('Temperature (kT)')\n",
    "plt.ylabel('Mean Net Magnetization')\n",
    "\n",
    "plt.subplot(2, 2, 2)\n",
    "plt.plot(kT_values, mean_energy_spin, marker='o')\n",
    "plt.title('Mean Energy vs Temperature')\n",
    "plt.xlabel('Temperature (kT)')\n",
    "plt.ylabel('Mean Energy')\n",
    "\n",
    "plt.subplot(2, 2, 3)\n",
    "plt.plot(kT_values, magnet_suspect, marker='o')\n",
    "plt.title('Magnet Suspectibility vs Temperature')\n",
    "plt.xlabel('Temperature (kT)')\n",
    "plt.ylabel('Magnet Suspectibility')\n",
    "\n",
    "\n",
    "plt.tight_layout()\n",
    "plt.show()"
   ]
  },
  {
   "cell_type": "code",
   "execution_count": null,
   "metadata": {},
   "outputs": [],
   "source": [
    "plt.plot(kT_values, heat_capacity, marker='o')\n",
    "plt.title('Heat Capacity vs Temperature')\n",
    "plt.xlabel('Temperature (kT)')\n",
    "plt.ylabel('Heat Capacity')"
   ]
  },
  {
   "cell_type": "markdown",
   "metadata": {},
   "source": [
    "#### Animation for ```array_negative``` (only 1500 steps)"
   ]
  },
  {
   "cell_type": "code",
   "execution_count": null,
   "metadata": {},
   "outputs": [],
   "source": [
    "import matplotlib.animation as animation\n",
    "from matplotlib import rc\n",
    "rc('animation', html='jshtml')\n",
    "fig, ax = plt.subplots()\n",
    "images = runMCmovie(1.5,-1,0, MCstepPBC, ax, array_negative)\n",
    "ani = animation.ArtistAnimation(fig, images, interval=1000/50, blit=True,repeat_delay=500)"
   ]
  },
  {
   "cell_type": "code",
   "execution_count": null,
   "metadata": {},
   "outputs": [],
   "source": [
    "ani"
   ]
  },
  {
   "cell_type": "markdown",
   "metadata": {},
   "source": [
    "### Simulation for ```array_positive``` below:"
   ]
  },
  {
   "cell_type": "code",
   "execution_count": null,
   "metadata": {},
   "outputs": [],
   "source": [
    "mean_energy_spin = []\n",
    "mc_spin = []\n",
    "magnet_suspect = []\n",
    "heat_capacity = []\n",
    "configurations = []\n",
    "\n",
    "for Temp in kT_values:\n",
    "    results = runMC(Temp, J, B, nEquil, data_collect, sample_size, array_positive, MCstepPBC, energyIsing2D)\n",
    "    mean_energy_spin.append(results[0]) \n",
    "    magnet_suspect.append(results[1]) \n",
    "    mc_spin.append(results[2]) \n",
    "    heat_capacity.append(results[3])\n",
    "    configurations.append(results[4])"
   ]
  },
  {
   "cell_type": "markdown",
   "metadata": {},
   "source": [
    "#### Plotting following Graphs: \n",
    "\n",
    "- 'Mean Net Magnetization vs Temperature'\n",
    "- 'Mean Energy vs Temperature'\n",
    "- 'Magnet Suspectibility vs Temperature'\n",
    "- 'Heat Capacity vs Temperature' (in separate block)"
   ]
  },
  {
   "cell_type": "code",
   "execution_count": null,
   "metadata": {},
   "outputs": [],
   "source": [
    "# Plot the results using Seaborn\n",
    "plt.figure(figsize=(12,8))\n",
    "\n",
    "plt.subplot(2, 2, 1)\n",
    "plt.plot(kT_values, mc_spin, marker='o')\n",
    "plt.title('Mean Net Magnetization vs Temperature')\n",
    "plt.xlabel('Temperature (kT)')\n",
    "plt.ylabel('Mean Net Magnetization')\n",
    "\n",
    "plt.subplot(2, 2, 2)\n",
    "plt.plot(kT_values, mean_energy_spin, marker='o')\n",
    "plt.title('Mean Energy vs Temperature')\n",
    "plt.xlabel('Temperature (kT)')\n",
    "plt.ylabel('Mean Energy')\n",
    "\n",
    "plt.subplot(2, 2, 3)\n",
    "plt.plot(kT_values, magnet_suspect, marker='o')\n",
    "plt.title('Magnet Suspectibility vs Temperature')\n",
    "plt.xlabel('Temperature (kT)')\n",
    "plt.ylabel('Magnet Suspectibility')\n",
    "\n",
    "\n",
    "plt.tight_layout()\n",
    "plt.show()"
   ]
  },
  {
   "cell_type": "code",
   "execution_count": null,
   "metadata": {},
   "outputs": [],
   "source": [
    "plt.plot(kT_values, heat_capacity, marker='o')\n",
    "plt.title('Heat Capacity vs Temperature')\n",
    "plt.xlabel('Temperature (kT)')\n",
    "plt.ylabel('Heat Capacity')"
   ]
  },
  {
   "cell_type": "markdown",
   "metadata": {},
   "source": [
    "#### Animation for ```array_positive``` (only 1500 steps)"
   ]
  },
  {
   "cell_type": "code",
   "execution_count": null,
   "metadata": {},
   "outputs": [],
   "source": [
    "import matplotlib.animation as animation\n",
    "from matplotlib import rc\n",
    "rc('animation', html='jshtml')\n",
    "fig, ax = plt.subplots()\n",
    "images = runMCmovie(1.5,-1,0, MCstepPBC, ax, array_positive)\n",
    "ani = animation.ArtistAnimation(fig, images, interval=1000/50, blit=True,repeat_delay=500)"
   ]
  },
  {
   "cell_type": "code",
   "execution_count": null,
   "metadata": {},
   "outputs": [],
   "source": [
    "ani"
   ]
  },
  {
   "cell_type": "markdown",
   "metadata": {},
   "source": [
    "## Simulation Results and Answering Hard Drive Question: \n",
    "\n",
    "We can see after running all four configurations that given 1,000,000 equilibration steps, we can the same results for our heat capacity, mean energy, and net magnetization! Thus, initial configuration does not matter for this question. \n",
    "\n",
    "---\n",
    "\n",
    "We now wish to answer the question on why the difference in phase transititon is useful for measuring the magnetic field in a hard drive. Difference in phase transition, as show in the next two simulations where ```B=1``` and ```B=2```, will be created because our phase transition will shift to the left as the magnetic field increases! Thus, we can tell that a difference with phase transition will cause us to have a a proportionality relationship with the magnetic field! We can also understand that hard drives are striped in nature (we are simulating a hard drive), therefore we can understand/see how the magnetic field will affect the phase transition of a hard drive. It also can be assumed that the hard drive, when it occurs as a phase transition, will stop working because the temperature is too hard for a hard drive. Therefore, we can now understand how the magnetic field is connected with the difference in phase transition which also lets us understand how well our hard drive will work at various temperatures! \n",
    "\n",
    "---\n",
    "\n",
    "Now, we can see below the shift in phase transition after those simulations run! "
   ]
  },
  {
   "cell_type": "markdown",
   "metadata": {},
   "source": [
    "### Simulation for ```B=1``` below:"
   ]
  },
  {
   "cell_type": "code",
   "execution_count": null,
   "metadata": {},
   "outputs": [],
   "source": [
    "mean_energy_spin = []\n",
    "mc_spin = []\n",
    "magnet_suspect = []\n",
    "heat_capacity = []\n",
    "configurations = []\n",
    "B=1 # Simluation at B=1\n",
    "for Temp in kT_values:\n",
    "    results = runMC(Temp, J, B, nEquil, data_collect, sample_size, array_positive, MCstepPBC, energyIsing2D)\n",
    "    mean_energy_spin.append(results[0]) \n",
    "    magnet_suspect.append(results[1]) \n",
    "    mc_spin.append(results[2]) \n",
    "    heat_capacity.append(results[3])\n",
    "    configurations.append(results[4])"
   ]
  },
  {
   "cell_type": "markdown",
   "metadata": {},
   "source": [
    "#### Plotting following Graphs: \n",
    "\n",
    "- 'Mean Net Magnetization vs Temperature'\n",
    "- 'Mean Energy vs Temperature'\n",
    "- 'Magnet Suspectibility vs Temperature'\n",
    "- 'Heat Capacity vs Temperature' (in separate block)"
   ]
  },
  {
   "cell_type": "code",
   "execution_count": null,
   "metadata": {},
   "outputs": [],
   "source": [
    "# Plot the results using Seaborn\n",
    "plt.figure(figsize=(12,8))\n",
    "\n",
    "plt.subplot(2, 2, 1)\n",
    "plt.plot(kT_values, mc_spin, marker='o')\n",
    "plt.title('Mean Net Magnetization vs Temperature')\n",
    "plt.xlabel('Temperature (kT)')\n",
    "plt.ylabel('Mean Net Magnetization')\n",
    "\n",
    "plt.subplot(2, 2, 2)\n",
    "plt.plot(kT_values, mean_energy_spin, marker='o')\n",
    "plt.title('Mean Energy vs Temperature')\n",
    "plt.xlabel('Temperature (kT)')\n",
    "plt.ylabel('Mean Energy')\n",
    "\n",
    "plt.subplot(2, 2, 3)\n",
    "plt.plot(kT_values, magnet_suspect, marker='o')\n",
    "plt.title('Magnet Suspectibility vs Temperature')\n",
    "plt.xlabel('Temperature (kT)')\n",
    "plt.ylabel('Magnet Suspectibility')\n",
    "\n",
    "\n",
    "plt.tight_layout()\n",
    "plt.show()"
   ]
  },
  {
   "cell_type": "code",
   "execution_count": null,
   "metadata": {},
   "outputs": [],
   "source": [
    "plt.plot(kT_values, heat_capacity, marker='o')\n",
    "plt.title('Heat Capacity vs Temperature')\n",
    "plt.xlabel('Temperature (kT)')\n",
    "plt.ylabel('Heat Capacity')"
   ]
  },
  {
   "cell_type": "markdown",
   "metadata": {},
   "source": [
    "#### Animation for ```B=1``` (only 1500 steps)"
   ]
  },
  {
   "cell_type": "code",
   "execution_count": null,
   "metadata": {},
   "outputs": [],
   "source": [
    "import matplotlib.animation as animation\n",
    "from matplotlib import rc\n",
    "rc('animation', html='jshtml')\n",
    "fig, ax = plt.subplots()\n",
    "images = runMCmovie(1.5,-1,0, MCstepPBC, ax, array_positive)\n",
    "ani = animation.ArtistAnimation(fig, images, interval=1000/50, blit=True,repeat_delay=500)"
   ]
  },
  {
   "cell_type": "code",
   "execution_count": null,
   "metadata": {},
   "outputs": [],
   "source": [
    "ani"
   ]
  },
  {
   "cell_type": "markdown",
   "metadata": {},
   "source": [
    "### Simulation for ```B=2``` below:"
   ]
  },
  {
   "cell_type": "code",
   "execution_count": null,
   "metadata": {},
   "outputs": [],
   "source": [
    "mean_energy_spin = []\n",
    "mc_spin = []\n",
    "magnet_suspect = []\n",
    "heat_capacity = []\n",
    "configurations = []\n",
    "B=2 # Simluation at B=2\n",
    "for Temp in kT_values:\n",
    "    results = runMC(Temp, J, B, nEquil, data_collect, sample_size, array_positive, MCstepPBC, energyIsing2D)\n",
    "    mean_energy_spin.append(results[0]) \n",
    "    magnet_suspect.append(results[1]) \n",
    "    mc_spin.append(results[2]) \n",
    "    heat_capacity.append(results[3])\n",
    "    configurations.append(results[4])"
   ]
  },
  {
   "cell_type": "markdown",
   "metadata": {},
   "source": [
    "#### Plotting following Graphs: \n",
    "\n",
    "- 'Mean Net Magnetization vs Temperature'\n",
    "- 'Mean Energy vs Temperature'\n",
    "- 'Magnet Suspectibility vs Temperature'\n",
    "- 'Heat Capacity vs Temperature' (in separate block)"
   ]
  },
  {
   "cell_type": "code",
   "execution_count": null,
   "metadata": {},
   "outputs": [],
   "source": [
    "# Plot the results using Seaborn\n",
    "plt.figure(figsize=(12,8))\n",
    "\n",
    "plt.subplot(2, 2, 1)\n",
    "plt.plot(kT_values, mc_spin, marker='o')\n",
    "plt.title('Mean Net Magnetization vs Temperature')\n",
    "plt.xlabel('Temperature (kT)')\n",
    "plt.ylabel('Mean Net Magnetization')\n",
    "\n",
    "plt.subplot(2, 2, 2)\n",
    "plt.plot(kT_values, mean_energy_spin, marker='o')\n",
    "plt.title('Mean Energy vs Temperature')\n",
    "plt.xlabel('Temperature (kT)')\n",
    "plt.ylabel('Mean Energy')\n",
    "\n",
    "plt.subplot(2, 2, 3)\n",
    "plt.plot(kT_values, magnet_suspect, marker='o')\n",
    "plt.title('Magnet Suspectibility vs Temperature')\n",
    "plt.xlabel('Temperature (kT)')\n",
    "plt.ylabel('Magnet Suspectibility')\n",
    "\n",
    "\n",
    "plt.tight_layout()\n",
    "plt.show()"
   ]
  },
  {
   "cell_type": "code",
   "execution_count": null,
   "metadata": {},
   "outputs": [],
   "source": [
    "plt.plot(kT_values, heat_capacity, marker='o')\n",
    "plt.title('Heat Capacity vs Temperature')\n",
    "plt.xlabel('Temperature (kT)')\n",
    "plt.ylabel('Heat Capacity')"
   ]
  },
  {
   "cell_type": "markdown",
   "metadata": {},
   "source": [
    "#### Animation for ```B=2``` (only 1500 steps)"
   ]
  },
  {
   "cell_type": "code",
   "execution_count": null,
   "metadata": {},
   "outputs": [],
   "source": [
    "import matplotlib.animation as animation\n",
    "from matplotlib import rc\n",
    "rc('animation', html='jshtml')\n",
    "fig, ax = plt.subplots()\n",
    "images = runMCmovie(1.5,-1,0, MCstepPBC, ax, array_positive)\n",
    "ani = animation.ArtistAnimation(fig, images, interval=1000/50, blit=True,repeat_delay=500)"
   ]
  },
  {
   "cell_type": "code",
   "execution_count": null,
   "metadata": {},
   "outputs": [],
   "source": [
    "ani"
   ]
  }
 ],
 "metadata": {
  "kernelspec": {
   "display_name": "base",
   "language": "python",
   "name": "python3"
  },
  "language_info": {
   "codemirror_mode": {
    "name": "ipython",
    "version": 3
   },
   "file_extension": ".py",
   "mimetype": "text/x-python",
   "name": "python",
   "nbconvert_exporter": "python",
   "pygments_lexer": "ipython3",
   "version": "3.11.5"
  }
 },
 "nbformat": 4,
 "nbformat_minor": 2
}
