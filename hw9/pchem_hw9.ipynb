{
 "cells": [
  {
   "cell_type": "markdown",
   "metadata": {},
   "source": [
    "# PCHEM HW#\n",
    "\n",
    "### Question 12-2 from Schrier Book"
   ]
  },
  {
   "cell_type": "code",
   "execution_count": 1,
   "metadata": {},
   "outputs": [
    {
     "name": "stdout",
     "output_type": "stream",
     "text": [
      "[[ 1  1  1 -1 -1 -1]\n",
      " [ 1  1  1 -1 -1 -1]\n",
      " [ 1  1  1 -1 -1 -1]\n",
      " [ 1  1  1 -1 -1 -1]\n",
      " [ 1  1  1 -1 -1 -1]\n",
      " [ 1  1  1 -1 -1 -1]]\n"
     ]
    }
   ],
   "source": [
    "import numpy as np\n",
    "\n",
    "def generate_initial_configuration(rows, cols):\n",
    "    \"\"\"\n",
    "    Generate an initial configuration of spins in a 2D square lattice.\n",
    "\n",
    "    Parameters:\n",
    "    - rows: Number of rows in the lattice\n",
    "    - cols: Number of columns in the lattice\n",
    "\n",
    "    Returns:\n",
    "    - spin_configuration: 2D NumPy array representing the initial spin configuration\n",
    "    \"\"\"\n",
    "\n",
    "    # Create an empty 2D array to represent the lattice\n",
    "    spin_configuration = np.zeros((rows, cols), dtype=int)\n",
    "\n",
    "    # Set the left half of the system to +1 and the right half to -1\n",
    "    mid_col = cols // 2\n",
    "    spin_configuration[:, :mid_col] = 1\n",
    "    spin_configuration[:, mid_col:] = -1\n",
    "\n",
    "    return spin_configuration\n",
    "\n",
    "# Example usage for a 6x6 lattice\n",
    "rows, cols = 6, 6\n",
    "initial_spin_configuration = generate_initial_configuration(rows, cols)\n",
    "\n",
    "# Print the initial spin configuration\n",
    "print(initial_spin_configuration)"
   ]
  },
  {
   "cell_type": "markdown",
   "metadata": {},
   "source": [
    "### Question 12-4 from Schrier Book"
   ]
  },
  {
   "cell_type": "code",
   "execution_count": 4,
   "metadata": {},
   "outputs": [
    {
     "name": "stdout",
     "output_type": "stream",
     "text": [
      "[[-1  1 -1  1 -1 -1 -1 -1 -1 -1]\n",
      " [-1 -1 -1 -1 -1 -1 -1 -1 -1  1]\n",
      " [ 1 -1 -1 -1 -1 -1  1 -1 -1  1]\n",
      " [-1  1  1 -1 -1 -1 -1 -1 -1 -1]\n",
      " [-1 -1 -1 -1 -1 -1 -1 -1 -1 -1]\n",
      " [-1 -1 -1 -1 -1 -1 -1 -1 -1 -1]\n",
      " [-1 -1 -1 -1 -1 -1 -1 -1 -1 -1]\n",
      " [-1 -1 -1 -1 -1 -1 -1 -1 -1 -1]\n",
      " [-1 -1 -1 -1 -1 -1  1 -1 -1 -1]\n",
      " [-1 -1 -1 -1 -1 -1 -1  1 -1 -1]]\n"
     ]
    }
   ],
   "source": [
    "def create_random_spin_configuration(rows, cols, num_positive_spins):\n",
    "    \"\"\"\n",
    "    Create a random spin configuration for a 2D lattice with a specified number of +1 spins.\n",
    "\n",
    "    Parameters:\n",
    "    - rows: Number of rows in the lattice\n",
    "    - cols: Number of columns in the lattice\n",
    "    - num_positive_spins: Number of spins with sigma_i = +1\n",
    "\n",
    "    Returns:\n",
    "    - spin_configuration: 2D NumPy array representing the random spin configuration\n",
    "    \"\"\"\n",
    "\n",
    "    # Create an empty 2D array to represent the lattice\n",
    "    spin_configuration = -1 * np.ones((rows, cols), dtype=int) # Every value will start be being -1, then we will change randomly 10 values to 1\n",
    "\n",
    "    # Randomly select positions for positive spins\n",
    "    positive_spins_indices = np.random.choice(rows * cols, num_positive_spins, replace=False)\n",
    "    positive_spins_positions = np.unravel_index(positive_spins_indices, (rows, cols))\n",
    "\n",
    "    # Set the selected positions to +1\n",
    "    spin_configuration[positive_spins_positions] = 1\n",
    "\n",
    "    return spin_configuration\n",
    "\n",
    "# Example usage for a 10x10 lattice with 10 +1 spins\n",
    "rows, cols = 10, 10\n",
    "num_positive_spins = 10\n",
    "random_spin_configuration = create_random_spin_configuration(rows, cols, num_positive_spins)\n",
    "\n",
    "# Print the random spin configuration\n",
    "print(random_spin_configuration)"
   ]
  }
 ],
 "metadata": {
  "kernelspec": {
   "display_name": "base",
   "language": "python",
   "name": "python3"
  },
  "language_info": {
   "codemirror_mode": {
    "name": "ipython",
    "version": 3
   },
   "file_extension": ".py",
   "mimetype": "text/x-python",
   "name": "python",
   "nbconvert_exporter": "python",
   "pygments_lexer": "ipython3",
   "version": "3.11.5"
  }
 },
 "nbformat": 4,
 "nbformat_minor": 2
}
