{
 "cells": [
  {
   "cell_type": "code",
   "execution_count": 1,
   "metadata": {},
   "outputs": [],
   "source": [
    "import numpy as np\n",
    "import math\n",
    "import sympy as sy\n",
    "import matplotlib.pyplot as plt\n",
    "from scipy import constants"
   ]
  },
  {
   "cell_type": "code",
   "execution_count": 2,
   "metadata": {},
   "outputs": [
    {
     "name": "stdout",
     "output_type": "stream",
     "text": [
      "0.5783883047565813\n",
      "888.040137800725\n",
      "1701.3853107397067\n",
      "3059.7270791514075\n"
     ]
    }
   ],
   "source": [
    "rot_temp = constants.Planck*0.402*100*constants.c / constants.Boltzmann\n",
    "print(rot_temp)\n",
    "\n",
    "vib_temp = constants.Planck*64200*constants.c / constants.Boltzmann\n",
    "print(vib_temp*0.9614)\n",
    "\n",
    "vib_temp = constants.Planck*123000*constants.c / constants.Boltzmann\n",
    "print(vib_temp*0.9614)\n",
    "\n",
    "vib_temp = constants.Planck*221200*constants.c / constants.Boltzmann\n",
    "print(vib_temp*0.9614)"
   ]
  },
  {
   "cell_type": "code",
   "execution_count": 12,
   "metadata": {},
   "outputs": [
    {
     "name": "stdout",
     "output_type": "stream",
     "text": [
      "0.5260723491282785\n",
      "0.6517542315454984\n",
      "0.656787585943035\n",
      "Our molar heat capacity for NNO is  38.935463875480345\n"
     ]
    }
   ],
   "source": [
    "Cv_vib = (1527/1000)*(sy.exp(-1527/1000)/((1-sy.exp(-1527/1000))**2))\n",
    "R = 8.314 \n",
    "e = math.exp(1)\n",
    "def Cv_calc (vib, T):\n",
    "    return (vib/T)**2*(e**(-vib/T)/((1-e**(-vib/T))**2))\n",
    "\n",
    "vib = np.array([888.00,1701.00,3060.00]) # Values calculated from the previous cell\n",
    "Cv_vib = 0\n",
    "for v in vib:\n",
    "    Cv_vib = Cv_vib + Cv_calc(v,310) # Calculating all the contributions in\n",
    "    print(Cv_vib)\n",
    "Cv_vib = Cv_vib + Cv_calc(888,310) # Accounting for degeneracy \n",
    "Cv_vib = Cv_vib + 3/2 + 2\n",
    "Cv_vib = Cv_vib * constants.gas_constant # Multipling the whole term by the gas constant\n",
    "\n",
    "print(\"Our molar heat capacity for NNO is \",Cv_vib)"
   ]
  },
  {
   "cell_type": "code",
   "execution_count": 15,
   "metadata": {},
   "outputs": [
    {
     "name": "stdout",
     "output_type": "stream",
     "text": [
      "Upper Limit is 3Nkb, so for  26500  atoms:  1.097615955e-18\n",
      "Upper Limit is 3Nkb, so for  1470  atoms:  6.08866209e-20\n"
     ]
    },
    {
     "data": {
      "image/png": "[encoded data removed]",
      "text/plain": [
       "<Figure size 432x288 with 1 Axes>"
      ]
     },
     "metadata": {
      "needs_background": "light"
     },
     "output_type": "display_data"
    }
   ],
   "source": [
    "e = math.exp(1)\n",
    "def vibrational_constribution(freq, T):\n",
    "    return ((e**(-constants.Planck*freq/(constants.Boltzmann*T)))/(1-e**(-constants.Planck*freq/(constants.Boltzmann*T)))**2)\n",
    "def vib_heat(freq,atoms,T):\n",
    "    return (3* atoms* constants.Boltzmann*((constants.Planck*freq/(constants.Boltzmann*T)))**2 * vibrational_constribution(freq,T))\n",
    "\n",
    "freq = np.array([20800,21000])\n",
    "\n",
    "freq = freq *constants.c \n",
    "\n",
    "atoms = np.array([26500,1470])\n",
    "temp = np.linspace(0.01,2000,10000)\n",
    "\"\"\"for v in range(len(freq)):\n",
    "    plt.plot(temp,vib_heat(freq[v],atoms[v],temp), label=str(atoms)+' Atoms')\"\"\"\n",
    "plt.plot(temp,vib_heat(freq[0],atoms[0],temp), label=str(atoms[0])+' Atoms')\n",
    "plt.plot(temp,vib_heat(freq[1],atoms[1],temp), label=str(atoms[1])+' Atoms')\n",
    "plt.xlabel(\"Temperature (K)\")\n",
    "plt.ylabel(\"Heat Capacity (J/*K)(1e-18)\")\n",
    "plt.legend()\n",
    "# plt.plot(temp,vib_heat(freq[1],atoms[1],temp))\n",
    "for N in atoms:\n",
    "    print(\"Upper Limit is 3Nkb, so for \", N,  \" atoms: \", N*constants.Boltzmann*3)\n"
   ]
  }
 ],
 "metadata": {
  "kernelspec": {
   "display_name": "base",
   "language": "python",
   "name": "python3"
  },
  "language_info": {
   "codemirror_mode": {
    "name": "ipython",
    "version": 3
   },
   "file_extension": ".py",
   "mimetype": "text/x-python",
   "name": "python",
   "nbconvert_exporter": "python",
   "pygments_lexer": "ipython3",
   "version": "3.9.7"
  }
 },
 "nbformat": 4,
 "nbformat_minor": 2
}
