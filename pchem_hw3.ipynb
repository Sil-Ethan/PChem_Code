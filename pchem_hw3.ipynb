{
 "cells": [
  {
   "cell_type": "code",
   "execution_count": 2,
   "metadata": {},
   "outputs": [
    {
     "ename": "ModuleNotFoundError",
     "evalue": "No module named 'sympy'",
     "output_type": "error",
     "traceback": [
      "\u001b[1;31m---------------------------------------------------------------------------\u001b[0m",
      "\u001b[1;31mModuleNotFoundError\u001b[0m                       Traceback (most recent call last)",
      "\u001b[1;32mc:\\Users\\death\\OneDrive\\Desktop\\Fall 2023 - Homework\\Pchem - Coding\\pchem_hw3.ipynb Cell 1\u001b[0m line \u001b[0;36m<cell line: 5>\u001b[1;34m()\u001b[0m\n\u001b[0;32m      <a href='vscode-notebook-cell:/c%3A/Users/death/OneDrive/Desktop/Fall%202023%20-%20Homework/Pchem%20-%20Coding/pchem_hw3.ipynb#W0sZmlsZQ%3D%3D?line=2'>3</a>\u001b[0m \u001b[39mimport\u001b[39;00m \u001b[39mmath\u001b[39;00m\n\u001b[0;32m      <a href='vscode-notebook-cell:/c%3A/Users/death/OneDrive/Desktop/Fall%202023%20-%20Homework/Pchem%20-%20Coding/pchem_hw3.ipynb#W0sZmlsZQ%3D%3D?line=3'>4</a>\u001b[0m \u001b[39mfrom\u001b[39;00m \u001b[39mscipy\u001b[39;00m \u001b[39mimport\u001b[39;00m constants\n\u001b[1;32m----> <a href='vscode-notebook-cell:/c%3A/Users/death/OneDrive/Desktop/Fall%202023%20-%20Homework/Pchem%20-%20Coding/pchem_hw3.ipynb#W0sZmlsZQ%3D%3D?line=4'>5</a>\u001b[0m \u001b[39mimport\u001b[39;00m \u001b[39msympy\u001b[39;00m \u001b[39mas\u001b[39;00m \u001b[39msy\u001b[39;00m\n",
      "\u001b[1;31mModuleNotFoundError\u001b[0m: No module named 'sympy'"
     ]
    }
   ],
   "source": [
    "import numpy as np\n",
    "import matplotlib.pyplot as plt\n",
    "import math\n",
    "from scipy import constants\n",
    "import sympy as sy"
   ]
  },
  {
   "cell_type": "markdown",
   "metadata": {},
   "source": [
    "### Question D-2\n",
    "\n",
    "We create the following two functions to complete the goals of the problem:\n",
    "\n",
    "wavenumbers_kilojoules\n",
    "- Inputs: Wavenumbers in cm $^{-1}$\n",
    "- Ouputs: Kilojoules per Mol (KJ/mol)\n",
    "\n",
    "wavenumbers_kilocalories\n",
    "- Inputs: Wavenumbers in cm $^{-1}$\n",
    "- Ouputs: Kilocalories per Mol (KJ/mol)\n",
    "\n",
    "Our conversations that we use are found on the following website: http://wild.life.nctu.edu.tw/class/common/energy-unit-conv-table.html"
   ]
  },
  {
   "cell_type": "code",
   "execution_count": null,
   "metadata": {},
   "outputs": [
    {
     "name": "stdout",
     "output_type": "stream",
     "text": [
      "H2 Vibrational Constant in Kilojoules:  52.6478427  kJ/mol\n",
      "H2 Rotational Constant in Kilojoules:  0.7093881099999999  kJ/mol\n",
      "H2 Vibrational Constant in Kilojoules:  12.58294311  kcal/mol\n",
      "H2 Rotational Constant in Kilojoules:  0.169545223  kcal/mol\n"
     ]
    }
   ],
   "source": [
    "h2_vibrational_constant = 4401 # vibrational constant for H2 in cm^{-1}\n",
    "h2_rotational_constant = 59.3 # rotational constant for H2 in cm^{-1}!\n",
    "\n",
    "# functions which are described above in the associated markdown\n",
    "def wavenumbers_kilojoules(wavenumbers): # Has to be in cm^-1\n",
    "    return wavenumbers*0.0119627 # finds the conversion \n",
    "\n",
    "def wavenumbers_kilocalories(wavenumbers): # Has to be in cm^-1\n",
    "    return wavenumbers*0.00285911\t # finds the conversion\n",
    "\n",
    "print(\"H2 Vibrational Constant in Kilojoules: \", wavenumbers_kilojoules(h2_vibrational_constant), \" kJ/mol\")\n",
    "print(\"H2 Rotational Constant in Kilojoules: \", wavenumbers_kilojoules(h2_rotational_constant), \" kJ/mol\")\n",
    "print(\"H2 Vibrational Constant in Kilojoules: \", wavenumbers_kilocalories(h2_vibrational_constant), \" kcal/mol\")\n",
    "print(\"H2 Rotational Constant in Kilojoules: \", wavenumbers_kilocalories(h2_rotational_constant), \" kcal/mol\")\n"
   ]
  },
  {
   "cell_type": "markdown",
   "metadata": {},
   "source": [
    "### Question D-4\n",
    "\n",
    "Below, I calculate the numerical difference between $v=0,J=1$ and $v=1,J=0$ levels of this molecule using the experimental value. I take the code I used in HW2 to complete this task, therefore I have omitted the markdown sections that explain the code sections since I have already done that. "
   ]
  },
  {
   "cell_type": "code",
   "execution_count": null,
   "metadata": {},
   "outputs": [],
   "source": [
    "def transenergy(n,m,L): #translational energy, particle in a box; mass in kg, box length in m\n",
    "  return (n**2 * constants.Planck**2)/(8*m*L**2)\n",
    "\n",
    "def rotenergy(J,mu,bondlength): #rotational energy in terms of reduced mass (kg) and effective bond length (m)\n",
    "  return J*(J+1)*constants.hbar**2/(2*mu*bondlength**2)\n",
    "\n",
    "def vibenergy(v,mu,k): #vibrational energy in terms of force constant (N/m or kg sec^2) and reduced mass (kg)\n",
    "  return (v+0.5)*constants.Planck*(1/(2*math.pi))*sy.sqrt(k/mu)"
   ]
  },
  {
   "cell_type": "code",
   "execution_count": null,
   "metadata": {},
   "outputs": [
    {
     "name": "stdout",
     "output_type": "stream",
     "text": [
      "Here are the two rotational energies of CO that we desire:\n",
      "0 )  0.0 J\n",
      "1 )  6.005151906575091e-23 J\n"
     ]
    }
   ],
   "source": [
    "# Below I calculate the rotational states of CO!\n",
    "\n",
    "mass_carbon = 1.9944733e-26 # kg\n",
    "mass_oxygen = 2.6566962e-26  # kg\n",
    "\n",
    "molecule_reduced = (mass_carbon*mass_oxygen)/(mass_carbon+mass_oxygen)\n",
    "\n",
    "J = np.array([0,1]) # the two rotational states that we care about\n",
    "bondlength = 1.275e-10 #\n",
    "\n",
    "rot_energies_molecule = rotenergy(J,molecule_reduced,bondlength)\n",
    "\n",
    "print(\"Here are the two rotational energies of CO that we desire:\")\n",
    "i=0\n",
    "for energy in rot_energies_molecule:\n",
    "    print(i,\") \", energy, \"J\")\n",
    "    i += 1\n",
    "i = 0"
   ]
  },
  {
   "cell_type": "code",
   "execution_count": null,
   "metadata": {},
   "outputs": [
    {
     "name": "stdout",
     "output_type": "stream",
     "text": [
      "Here are the first five vibrational energies of H2 in Joules:\n",
      "0 )  2.86644137186590e-20 J\n",
      "1 )  8.59932411559771e-20 J\n"
     ]
    }
   ],
   "source": [
    "# Below I calculate the rotational states of H^35Cl!\n",
    "v = np.array([0,1])\n",
    "# v_obs = 440100/ constants.Planck\n",
    "k = ((2*math.pi*288600*constants.c)**2)*molecule_reduced\n",
    "vib_energies_molecule = vibenergy(v,molecule_reduced,k)\n",
    "\n",
    "print(\"Here are the first two vibrational energies of CO in Joules:\")\n",
    "i = 0\n",
    "for energy in vib_energies_molecule:\n",
    "    print(i,\") \", energy, \"J\")\n",
    "    i += 1"
   ]
  },
  {
   "cell_type": "code",
   "execution_count": null,
   "metadata": {},
   "outputs": [
    {
     "name": "stdout",
     "output_type": "stream",
     "text": [
      "Here are the first five vibrational energies of H2 in Joules:\n",
      "0 )  2.86644137186590e-20 J\n",
      "1 )  8.59932411559771e-20 J\n"
     ]
    }
   ],
   "source": [
    "# Below I calculate the Vibrational states of CO!\n",
    "v = np.array([0,1])\n",
    "# v_obs = 440100/ constants.Planck\n",
    "k = ((2*math.pi*288600*constants.c)**2)*molecule_reduced\n",
    "vib_energies_molecule = vibenergy(v,molecule_reduced,k)\n",
    "\n",
    "print(\"Here are the first five vibrational energies of H2 in Joules:\")\n",
    "i = 0\n",
    "for energy in vib_energies_molecule:\n",
    "    print(i,\") \", energy, \"J\")\n",
    "    i += 1"
   ]
  },
  {
   "cell_type": "code",
   "execution_count": null,
   "metadata": {},
   "outputs": [
    {
     "name": "stdout",
     "output_type": "stream",
     "text": [
      "The energy difference between E_(v=0,J=1)-E_(v=1,J=0)= -5.72687759182523e-20\n",
      "\n",
      " Where the energy of E_(v=1,J=0)>E_(v=0,J=1)\n"
     ]
    }
   ],
   "source": [
    "# Below, we compare the energies of v=0,J=1 and v=1,J=0\n",
    "\n",
    "energy_total_1 = vib_energies_molecule[0] + rot_energies_molecule[1] # v=0,J=1\n",
    "energy_total_2 = vib_energies_molecule[1] + rot_energies_molecule[0] # v=1,J=0\n",
    "\n",
    "energy_difference = energy_total_1 - energy_total_2\n",
    "\n",
    "print(\"The energy difference between E_(v=0,J=1)-E_(v=1,J=0)=\", energy_difference)\n",
    "print(\"\\n Where the energy of E_(v=1,J=0)>E_(v=0,J=1)\")"
   ]
  },
  {
   "cell_type": "markdown",
   "metadata": {},
   "source": [
    "The energy difference between $E_{v=0,J=1}-E_{v=1,J=0}= -5.73 \\times 10^{-20}$ Joules, where the energy of $E_{v=1,J=0}>E_{v=0,J=1}$."
   ]
  },
  {
   "cell_type": "code",
   "execution_count": 5,
   "metadata": {},
   "outputs": [
    {
     "name": "stdout",
     "output_type": "stream",
     "text": [
      "0.6029240133140447\n"
     ]
    }
   ],
   "source": [
    "rotational_constant = constants.Planck**2 / (8 * constants.pi**2 * 6.68e-46 * constants.Boltzmann)\n",
    "print(rotational_constant)"
   ]
  }
 ],
 "metadata": {
  "kernelspec": {
   "display_name": "base",
   "language": "python",
   "name": "python3"
  },
  "language_info": {
   "codemirror_mode": {
    "name": "ipython",
    "version": 3
   },
   "file_extension": ".py",
   "mimetype": "text/x-python",
   "name": "python",
   "nbconvert_exporter": "python",
   "pygments_lexer": "ipython3",
   "version": "3.8.13"
  },
  "orig_nbformat": 4
 },
 "nbformat": 4,
 "nbformat_minor": 2
}
