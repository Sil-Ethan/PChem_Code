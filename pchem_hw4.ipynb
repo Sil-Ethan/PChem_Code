{
 "cells": [
  {
   "cell_type": "code",
   "execution_count": 19,
   "metadata": {},
   "outputs": [],
   "source": [
    "import numpy as np\n",
    "import matplotlib.pyplot as plt\n",
    "import math\n",
    "from scipy import constants\n",
    "import sympy as sy"
   ]
  },
  {
   "cell_type": "markdown",
   "metadata": {},
   "source": [
    "### J-Values Question\n",
    "Below, we find the J value where the highest energy occurs by plotting a graph of J values versus their associated Rotational Energy Boltzman Factor. I created a new function rot_energy which calculated the Boltman factor for a particular value J. I then create an array of values from 0 to 40 for J and plotted their associated Boltzman factor along with it. \n",
    "\n",
    "We find that the largest Energy occurs at $J=9$."
   ]
  },
  {
   "cell_type": "code",
   "execution_count": 20,
   "metadata": {},
   "outputs": [
    {
     "name": "stderr",
     "output_type": "stream",
     "text": [
      "No handles with labels found to put in legend.\n"
     ]
    },
    {
     "name": "stdout",
     "output_type": "stream",
     "text": [
      "The highest energy occurs at J = 9\n"
     ]
    },
    {
     "data": {
      "image/png": "[encoded data removed]",
      "text/plain": [
       "<Figure size 432x288 with 1 Axes>"
      ]
     },
     "metadata": {
      "needs_background": "light"
     },
     "output_type": "display_data"
    }
   ],
   "source": [
    "moment = 2.6e-46 # Moment of Interia for N2 which was found online\n",
    "n2_bondlength = 1.09e-10 # Bondlength \n",
    "n2_reduced = (14*14)/(14+14)*1.66054e-27 # calculated reduced mass of N_2\n",
    "\n",
    "e = 2.71828 # Value of Euler's number\n",
    "def rot_energy(temperature,J): # takes in temperature and J value, returns the Boltzman factor. Included degeneracy too\n",
    "    return (2*J +1)*e**(-(J*(J+1)*constants.hbar**2)/(2*moment*constants.Boltzmann*temperature))\n",
    "\n",
    "\n",
    "J_values = np.linspace(0,40,41) # values of J\n",
    "\n",
    "# Plots the graph showing where the highest J value occurs\n",
    "plt.scatter(J_values,rot_energy(300,J_values))\n",
    "plt.xlabel(\"J Values\",fontsize=20)\n",
    "plt.ylabel(\"Boltzman Factor\",fontsize=20)\n",
    "plt.legend(fontsize=20)\n",
    "\n",
    "print(\"The highest energy occurs at J =\", rot_energy(300,J_values).argmax())\n"
   ]
  },
  {
   "cell_type": "markdown",
   "metadata": {},
   "source": [
    "### 4-25\n",
    "We use python as a glorified calculator to do this problem. Main things to note:\n",
    "\n",
    "We define two new functions, char_vib which calculates the Charactistic Vibrational Values all at once, and the Molar Heat Capacity which will take in the inputs of char_vib to find the Molar Heat Capacity of a given molecule. The results can be seen below! "
   ]
  },
  {
   "cell_type": "code",
   "execution_count": 21,
   "metadata": {},
   "outputs": [
    {
     "name": "stdout",
     "output_type": "stream",
     "text": [
      "Here is our calculated center of mass of Acetylene:  1.6615000000000002e-10\n",
      "Here is our calculated moment of interia for Acetylene:  2.3620171329999997e-46\n",
      "Here is our calculated rotational constant:  1.7051241299941151\n"
     ]
    }
   ],
   "source": [
    "x_COM = (1.67e-27*(0)+1.99e-26*(106e-12)+1.99e-26*(106e-12+120.3e-12)+1.67e-27*(106e-12+106e-12+120.3e-12))/(2*(1.67e-27)+(1.99e-26)*2) # Calculate the center of mass for Acetylene\n",
    "print(\"Here is our calculated center of mass of Acetylene: \",x_COM)\n",
    "\n",
    "# Below we calculate the moment of Acetylene using the Center of Mass we calculated. \n",
    "moment_acetylene = (1.67e-27)*(166e-12)**2+(1.67e-27)*(2*(106e-12)+(120.3e-12)-(166e-12))**2+1.99e-26*((166e-12)-(106e-12))**2+1.99e-26*((106e-12)+(120.3e-12)-(166e-12))**2\n",
    "print(\"Here is our calculated moment of interia for Acetylene: \",moment_acetylene)\n",
    "\n",
    "# Rotataional Value is calculated below! \n",
    "rotational_constant = constants.h**2/(8*constants.pi**2*moment_acetylene*constants.Boltzmann)\n",
    "\n",
    "print(\"Here is our calculated rotational constant: \", rotational_constant)"
   ]
  },
  {
   "cell_type": "code",
   "execution_count": 22,
   "metadata": {},
   "outputs": [
    {
     "name": "stdout",
     "output_type": "stream",
     "text": [
      "Here are the Characteristic Vibrational Values:  [2841.58433307 4848.67807719 4714.87182758 1048.8683437   863.2661265 ]\n",
      "Here is the molar Heat Capacity for Acetylene:  4.34140535538732  R\n"
     ]
    }
   ],
   "source": [
    "\"\"\"\n",
    "Function: char_vib (Characteristic Vibrational)\n",
    "Input: Vibrational Constants in m^{-1}\n",
    "Output: Characteristic Vibrational Values given formula provided in Latex Writeup\n",
    "\"\"\"\n",
    "def char_vib(vib_constant):\n",
    "    return (constants.Planck*constants.c*vib_constant/(constants.Boltzmann))\n",
    "\n",
    "vibrational_constants = np.array([197500,337000,327700,72900,60000]) # Vibrational Constants for N2\n",
    "\n",
    "print(\"Here are the Characteristic Vibrational Values: \", char_vib(vibrational_constants))\n",
    "gen_values = np.array([1,1,1,2,2]) # Generacy Values provided for N2\n",
    "\n",
    "\n",
    "\"\"\"\n",
    "Function: molar_Cv (Molar Heat Capacity)\n",
    "Input: temperature (K), vib_constant (array), generacy\n",
    "Output: Integar, Molar Heat Capacity\n",
    "\"\"\"\n",
    "def molar_Cv(temperture,vib_constant,generacy):\n",
    "    molar_Cv = 3/2 + 1 # Initialized with the following integar values\n",
    "    i = 0 # Index for generacy array\n",
    "    for vib in vib_constant: # Loop through the values within the vibrational constants array\n",
    "        molar_Cv = molar_Cv + generacy[i]*((vib/temperture)**2 * math.exp(-vib/temperture)/((1-math.exp(-vib/temperture))**2))\n",
    "        i = i + 1\n",
    "    return molar_Cv\n",
    "\n",
    "print(\"Here is the molar Heat Capacity for Acetylene: \", molar_Cv(300,char_vib(vibrational_constants),gen_values), \" R\")"
   ]
  },
  {
   "cell_type": "code",
   "execution_count": 30,
   "metadata": {},
   "outputs": [
    {
     "name": "stderr",
     "output_type": "stream",
     "text": [
      "C:\\Users\\death\\AppData\\Local\\Temp/ipykernel_21228/3352675034.py:4: RuntimeWarning: overflow encountered in power\n",
      "  return (3*e**(-788100*constants.c*constants.Planck/(constants.Boltzmann*T))*(788100*constants.c*constants.Planck)**2)/(constants.Boltzmann*(T+3*T*e**(-788100*constants.c*constants.Planck/(constants.Boltzmann*T))**2))\n",
      "C:\\Users\\death\\AppData\\Local\\Temp/ipykernel_21228/3352675034.py:4: RuntimeWarning: overflow encountered in multiply\n",
      "  return (3*e**(-788100*constants.c*constants.Planck/(constants.Boltzmann*T))*(788100*constants.c*constants.Planck)**2)/(constants.Boltzmann*(T+3*T*e**(-788100*constants.c*constants.Planck/(constants.Boltzmann*T))**2))\n",
      "No handles with labels found to put in legend.\n"
     ]
    },
    {
     "data": {
      "text/plain": [
       "<matplotlib.legend.Legend at 0x1d2731b68e0>"
      ]
     },
     "execution_count": 30,
     "metadata": {},
     "output_type": "execute_result"
    },
    {
     "data": {
      "image/png": "[encoded data removed]",
      "text/plain": [
       "<Figure size 432x288 with 1 Axes>"
      ]
     },
     "metadata": {
      "needs_background": "light"
     },
     "output_type": "display_data"
    }
   ],
   "source": [
    "e = 2.71828\n",
    "E1 = 7881\n",
    "def elect_energy(T):\n",
    "    return (3*e**(-788100*constants.c*constants.Planck/(constants.Boltzmann*T))*(788100*constants.c*constants.Planck)**2)/(constants.Boltzmann*(T+3*T*e**(-788100*constants.c*constants.Planck/(constants.Boltzmann*T))**2))\n",
    "\n",
    "temp = np.linspace(1,10000,10000)\n",
    "\n",
    "plt.plot(temp, elect_energy(temp))\n",
    "plt.xlabel(\"Temperature\",fontsize=20)\n",
    "plt.ylabel(\"Molar Electronic Heat\",fontsize=20)\n",
    "plt.legend(fontsize=20)"
   ]
  }
 ],
 "metadata": {
  "kernelspec": {
   "display_name": "base",
   "language": "python",
   "name": "python3"
  },
  "language_info": {
   "codemirror_mode": {
    "name": "ipython",
    "version": 3
   },
   "file_extension": ".py",
   "mimetype": "text/x-python",
   "name": "python",
   "nbconvert_exporter": "python",
   "pygments_lexer": "ipython3",
   "version": "3.9.7"
  },
  "orig_nbformat": 4
 },
 "nbformat": 4,
 "nbformat_minor": 2
}
