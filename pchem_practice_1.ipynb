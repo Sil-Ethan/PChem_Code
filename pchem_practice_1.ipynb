{
 "cells": [
  {
   "cell_type": "code",
   "execution_count": 2,
   "metadata": {},
   "outputs": [],
   "source": [
    "import numpy as np\n",
    "import matplotlib.pyplot as plt\n",
    "import sympy as sy\n",
    "from scipy import constants\n",
    "import math"
   ]
  },
  {
   "cell_type": "code",
   "execution_count": 3,
   "metadata": {},
   "outputs": [
    {
     "name": "stdout",
     "output_type": "stream",
     "text": [
      "0.5783883047565813\n",
      "888.040137800725\n",
      "1701.3853107397067\n",
      "3059.7270791514075\n"
     ]
    }
   ],
   "source": [
    "rot_temp = constants.Planck*0.402*100*constants.c / constants.Boltzmann\n",
    "print(rot_temp)\n",
    "\n",
    "vib_temp = constants.Planck*64200*constants.c / constants.Boltzmann\n",
    "print(vib_temp*0.9614)\n",
    "\n",
    "vib_temp = constants.Planck*123000*constants.c / constants.Boltzmann\n",
    "print(vib_temp*0.9614)\n",
    "\n",
    "vib_temp = constants.Planck*221200*constants.c / constants.Boltzmann\n",
    "print(vib_temp*0.9614)\n"
   ]
  },
  {
   "cell_type": "code",
   "execution_count": 4,
   "metadata": {},
   "outputs": [
    {
     "name": "stdout",
     "output_type": "stream",
     "text": [
      "0.5260723491282785\n",
      "0.6517542315454984\n",
      "0.656787585943035\n",
      "38.9332975001829\n"
     ]
    }
   ],
   "source": [
    "Cv_vib = (1527/1000)*(sy.exp(-1527/1000)/((1-sy.exp(-1527/1000))**2))\n",
    "R = 8.314 \n",
    "e = math.exp(1)\n",
    "def Cv_calc (vib, T):\n",
    "    return (vib/T)**2*(e**(-vib/T)/(1-e**(-vib/T))**2)\n",
    "\n",
    "vib = np.array([888.00,1701.00,3060.00])\n",
    "Cv_vib = 0\n",
    "for v in vib:\n",
    "    Cv_vib = Cv_vib + Cv_calc(v,310)\n",
    "    print(Cv_vib)\n",
    "Cv_vib = Cv_vib + Cv_calc(888,310)\n",
    "Cv_vib = Cv_vib + 3/2 + 2\n",
    "Cv_vib = Cv_vib * R\n",
    "\n",
    "print(Cv_vib)"
   ]
  },
  {
   "cell_type": "code",
   "execution_count": 5,
   "metadata": {},
   "outputs": [
    {
     "data": {
      "text/plain": [
       "(0.0, 2.0)"
      ]
     },
     "execution_count": 5,
     "metadata": {},
     "output_type": "execute_result"
    },
    {
     "data": {
      "image/png": "[encoded data removed]",
      "text/plain": [
       "<Figure size 432x288 with 1 Axes>"
      ]
     },
     "metadata": {
      "needs_background": "light"
     },
     "output_type": "display_data"
    }
   ],
   "source": [
    "VMolar = np.linspace(0.0486,1000,1000)\n",
    "import math\n",
    "a = 5.205\n",
    "b = 0.0485\n",
    "R = 0.08314\n",
    "e = math.exp(1)\n",
    "Temps = np.array([300,400])\n",
    "def P_Dietericic(Vm,T,a,b):\n",
    "    return ((R*T*e**(-a/(Vm*R*T)))/(Vm-b))\n",
    "def Z_Dietericic(Vm,T,a,b):\n",
    "    return (P_Dietericic(Vm,T,a,b)*(Vm)/(R*T))\n",
    "\n",
    "for T in Temps:\n",
    "    plt.plot(P_Dietericic(VMolar,T,a,b),Z_Dietericic(VMolar,T,a,b))\n",
    "plt.xlim(0,500)\n",
    "plt.ylim(0,2)"
   ]
  },
  {
   "cell_type": "code",
   "execution_count": 6,
   "metadata": {},
   "outputs": [
    {
     "name": "stdout",
     "output_type": "stream",
     "text": [
      "0.5539290978390146\n"
     ]
    }
   ],
   "source": [
    "CO2_rot = constants.Planck*0.385*100*constants.c / constants.Boltzmann\n",
    "print(CO2_rot)"
   ]
  },
  {
   "cell_type": "code",
   "execution_count": 7,
   "metadata": {},
   "outputs": [
    {
     "name": "stdout",
     "output_type": "stream",
     "text": [
      "885.68862964767\n",
      "1897.390431497281\n",
      "3369.0195632826258\n"
     ]
    }
   ],
   "source": [
    "def vib_temp(freq):\n",
    "    return constants.Planck*freq*100*0.9614*constants.c / constants.Boltzmann\n",
    "\n",
    "vib_freq = np.array([640.3,1371.7,2435.6])\n",
    "for v in vib_freq:\n",
    "    print(vib_temp(v))"
   ]
  },
  {
   "cell_type": "code",
   "execution_count": 8,
   "metadata": {},
   "outputs": [
    {
     "data": {
      "text/plain": [
       "[<matplotlib.lines.Line2D at 0x16a912e8310>]"
      ]
     },
     "execution_count": 8,
     "metadata": {},
     "output_type": "execute_result"
    },
    {
     "data": {
      "image/png": "[encoded data removed]",
      "text/plain": [
       "<Figure size 432x288 with 1 Axes>"
      ]
     },
     "metadata": {
      "needs_background": "light"
     },
     "output_type": "display_data"
    }
   ],
   "source": [
    "def partition_function(deltaE, T):\n",
    "    return (2*e**(-deltaE/(constants.Boltzmann*T))/(1+2*e**(-deltaE/(constants.Boltzmann*T))))\n",
    "\n",
    "Temp = np.linspace(1,1000,1000)\n",
    "\n",
    "plt.plot(Temp,partition_function(1, Temp))"
   ]
  }
 ],
 "metadata": {
  "kernelspec": {
   "display_name": "base",
   "language": "python",
   "name": "python3"
  },
  "language_info": {
   "codemirror_mode": {
    "name": "ipython",
    "version": 3
   },
   "file_extension": ".py",
   "mimetype": "text/x-python",
   "name": "python",
   "nbconvert_exporter": "python",
   "pygments_lexer": "ipython3",
   "version": "3.9.7"
  }
 },
 "nbformat": 4,
 "nbformat_minor": 2
}
